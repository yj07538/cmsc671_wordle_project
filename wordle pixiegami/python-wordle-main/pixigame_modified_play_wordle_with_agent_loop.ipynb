{
 "cells": [
  {
   "cell_type": "markdown",
   "id": "b9be713c",
   "metadata": {},
   "source": [
    "This work was significanly informed by code from this youtube site and corresponding github repository.  \n",
    "\n",
    "Created on Sat Nov  5 13:25:36 2022\n",
    "@author: johnny\n",
    "This code was heavily influenced by a design published in youtube under \n",
    "this url: https://www.youtube.com/watch?v=SyWeex-S6d0\n",
    "\n",
    "Youtube citation:\n",
    "pixegami. (2022b, February 6). Build Wordle in Python • Word Game Python Project for Beginners. \n",
    "YouTube. https://www.youtube.com/watch?v=SyWeex-S6d0\n",
    "\n",
    "github citation:\n",
    "PIXEGAMI. (n.d.). GitHub - pixegami/python-wordle: \n",
    "An implementation of Wordle in Python than can be played via the terminal. \n",
    "GitHub. https://github.com/pixegami/python-wordle\n",
    "\n"
   ]
  },
  {
   "cell_type": "markdown",
   "id": "82b0c367",
   "metadata": {},
   "source": [
    "## This code is the one you will use to run the program.\n",
    "## It imports from the other python programs.\n",
    "\n",
    "there is a data directory where the data files are stored.  \n",
    "These files are code written by this team which includes code from the play_wordle.py file that was written by the original author.\n",
    "\n",
    "## Agent_guess_writer.ipynb\n",
    "    This script provides an interface for the agent to write guesses into a file.  That file is embedded in the game loop and the master agent pulls these guesses into the game.\n",
    "    \n",
    "## create_5_letter_word_text.ipynb\n",
    "    This file creates a 5 letter word list from the nltk words data file, extracting the 5 letter words and writingthese to a file in the data directory.\n",
    "    \n",
    "## pixigame_modified_play_wordle_with_agent_loop.ipynb \n",
    "    This script includes code from the original author that has been included, augmented, and modified to support the game interface as well as providing a game loop where the agent software can connect.  \n",
    "\n",
    "# These files are original from the pixegami author\n",
    "\n",
    "## convert_words.py\n",
    "\n",
    "## letter_state.py\n",
    "\n",
    "## play_wordle.py\n",
    "    This file has been modified to provide some specific alterations required in our agent implementation\n",
    "\n",
    "## README.md\n",
    "\n",
    "## word_source.txt\n",
    "\n",
    "## wordle.py\n",
    "\n",
    "\n",
    "# Data directory\n",
    "\n",
    "## convert_words.py  \n",
    "This is an  script from the original author that creates the word list\n",
    "## word_source.txt  \n",
    "This is the author's word list\n",
    "\n",
    "# These files are written as part of this project\n",
    "## agent_guesses.txt  \n",
    "This is a file that provides the agent input to the game.   \n",
    "## wordle_words.txt\n",
    "This is a file of the words used in this script"
   ]
  },
  {
   "cell_type": "code",
   "execution_count": 81,
   "id": "42332fa7",
   "metadata": {},
   "outputs": [],
   "source": [
    "from typing import List\n",
    "from letter_state import LetterState\n",
    "from wordle import Wordle\n",
    "from colorama import Fore\n",
    "from colorama import init, Fore, Back, Style\n",
    "import random\n",
    "agent_guess_list = []\n",
    "import msvcrt\n",
    "import time\n",
    "import re\n",
    "import numpy as np"
   ]
  },
  {
   "cell_type": "code",
   "execution_count": 82,
   "id": "2ebcf41a",
   "metadata": {},
   "outputs": [],
   "source": [
    "word_set = load_word_set(\"data/wordle_words.txt\")\n",
    "np_word_list = np.array(list(word_set))"
   ]
  },
  {
   "cell_type": "code",
   "execution_count": 83,
   "id": "58546a38",
   "metadata": {},
   "outputs": [],
   "source": [
    "def main():\n",
    "\n",
    "    word_set = load_word_set(\"data/wordle_words.txt\")\n",
    "    np_word_list = np.array(list(word_set))\n",
    "    secret = random.choice(list(word_set))\n",
    "    wordle = Wordle(secret)\n",
    "    print(secret)\n",
    "    \n",
    "    \n",
    "    while wordle.can_attempt:\n",
    "        \n",
    "        agent_guess_list = check_agent_list()\n",
    "        if len(agent_guess_list) > 0:\n",
    "            x = agent_guess_list.pop()\n",
    "            write_agent_guess_set(\"data/agent_guesses.txt\",agent_guess_list)\n",
    "        else:\n",
    "            x = input(\"\\nType your guess: \")\n",
    "\n",
    "            \n",
    "            \n",
    "            \n",
    "            \n",
    "        x = x.upper()\n",
    "        \n",
    "\n",
    "        \n",
    "        if len(x) != wordle.WORD_LENGTH:\n",
    "            print(\n",
    "                Fore.RED\n",
    "                + f\"Word must be {wordle.WORD_LENGTH} characters long!\"\n",
    "                + Fore.RESET\n",
    "            )\n",
    "            continue\n",
    "\n",
    "        if not x in word_set:\n",
    "            print(\n",
    "                Fore.RED\n",
    "                + f\"{x} is not a valid word! this word is not in the word set\"\n",
    "                + Fore.RESET\n",
    "            )\n",
    "            continue\n",
    "\n",
    "        wordle.attempt(x)\n",
    "        display_results(wordle)\n",
    "\n",
    "    if wordle.is_solved:\n",
    "        print(\"You've solved the puzzle johnny.\")\n",
    "    else:\n",
    "        print(\"You failed to solve the puzzle!\")\n",
    "        print(f\"The secret word was: {wordle.secret}\")\n",
    "\n",
    "\n",
    "\n"
   ]
  },
  {
   "cell_type": "code",
   "execution_count": 84,
   "id": "bebe0c45",
   "metadata": {},
   "outputs": [],
   "source": [
    "def display_results(wordle: Wordle):\n",
    "    print(\"\\nYour results so far...\")\n",
    "    print(f\"You have {wordle.remaining_attempts} attempts remaining.\\n\")\n",
    "\n",
    "    lines = []\n",
    "\n",
    "    print(\"display_results- wordle.attempts:\",wordle.attempts)\n",
    "\n",
    "    \n",
    "    for word in wordle.attempts:\n",
    "        print(\"display_results- word:\",word)\n",
    "        result = wordle.guess(word)\n",
    "        colored_result_str = convert_result_to_color(result)\n",
    "        lines.append(colored_result_str)\n",
    "\n",
    "    for _ in range(wordle.remaining_attempts):\n",
    "        lines.append(\" \".join([\"_\"] * wordle.WORD_LENGTH))\n",
    "\n",
    "    draw_border_around(lines)"
   ]
  },
  {
   "cell_type": "code",
   "execution_count": 85,
   "id": "e000bb26",
   "metadata": {},
   "outputs": [],
   "source": [
    "def load_word_set(path: str):\n",
    "    word_set = set()\n",
    "    with open(path, \"r\") as f:\n",
    "        for line in f.readlines():\n",
    "            word = line.strip().upper()\n",
    "            word_set.add(word)\n",
    "    return word_set"
   ]
  },
  {
   "cell_type": "code",
   "execution_count": 86,
   "id": "09dafd3c",
   "metadata": {},
   "outputs": [],
   "source": [
    "\n",
    "def check_agent_list():\n",
    "    my_set = load_word_set(\"data/agent_guesses.txt\")\n",
    "    mylist = list(my_set)\n",
    "    print(mylist, type(mylist))\n",
    "    return(mylist)"
   ]
  },
  {
   "cell_type": "code",
   "execution_count": 87,
   "id": "d4a6aa47",
   "metadata": {},
   "outputs": [],
   "source": [
    "def convert_result_to_color(result: List[LetterState]):\n",
    "    result_with_color = []\n",
    "    for letter in result:\n",
    "        if letter.is_in_position:\n",
    "            color = Fore.GREEN\n",
    "            color = Back.GREEN\n",
    "        elif letter.is_in_word:\n",
    "            color = Fore.YELLOW\n",
    "            color = Back.YELLOW\n",
    "        else:\n",
    "            color = Fore.WHITE\n",
    "        colored_letter = color + Fore.BLACK + letter.character + Fore.RESET + Back.RESET\n",
    "        result_with_color.append(colored_letter)\n",
    "    return \" \".join(result_with_color)"
   ]
  },
  {
   "cell_type": "code",
   "execution_count": 88,
   "id": "776f3aa0",
   "metadata": {},
   "outputs": [],
   "source": [
    "def draw_border_around(lines: List[str], size: int = 9, pad: int = 1):\n",
    "\n",
    "    content_length = size + pad * 2\n",
    "    top_border = \"┌\" + \"─\" * content_length + \"┐\"\n",
    "    bottom_border = \"└\" + \"─\" * content_length + \"┘\"\n",
    "    space = \" \" * pad\n",
    "    print(top_border)\n",
    "\n",
    "    for line in lines:\n",
    "        print(\"│\" + space + line + space + \"│\")\n",
    "\n",
    "    print(bottom_border)\n",
    "\n",
    "\n"
   ]
  },
  {
   "cell_type": "code",
   "execution_count": 89,
   "id": "ac35e34a",
   "metadata": {},
   "outputs": [],
   "source": [
    "def write_agent_guess_set(path: str, my_list: List[str]):\n",
    "    word_set = set()\n",
    "    with open(path, \"w\") as f:\n",
    "        f.writelines(\"%s\\n\" % l for l in my_list)"
   ]
  },
  {
   "cell_type": "markdown",
   "id": "0552c3bc",
   "metadata": {},
   "source": [
    "# The next line runs the game:\n",
    "\n",
    "Data is written to the screen that is part of the development cycle.  These will be removed for the actual game play."
   ]
  },
  {
   "cell_type": "code",
   "execution_count": null,
   "id": "8fd9d25f",
   "metadata": {},
   "outputs": [
    {
     "name": "stdout",
     "output_type": "stream",
     "text": [
      "MORSE\n",
      "[] <class 'list'>\n",
      "\n",
      "Type your guess: slate\n",
      "\n",
      "Your results so far...\n",
      "You have 5 attempts remaining.\n",
      "\n",
      "display_results- wordle.attempts: ['SLATE']\n",
      "display_results- word: SLATE\n",
      "┌───────────┐\n",
      "│ \u001b[43m\u001b[30mS\u001b[39m\u001b[49m \u001b[37m\u001b[30mL\u001b[39m\u001b[49m \u001b[37m\u001b[30mA\u001b[39m\u001b[49m \u001b[37m\u001b[30mT\u001b[39m\u001b[49m \u001b[42m\u001b[30mE\u001b[39m\u001b[49m │\n",
      "│ _ _ _ _ _ │\n",
      "│ _ _ _ _ _ │\n",
      "│ _ _ _ _ _ │\n",
      "│ _ _ _ _ _ │\n",
      "│ _ _ _ _ _ │\n",
      "└───────────┘\n",
      "[] <class 'list'>\n",
      "\n",
      "Type your guess: bread\n",
      "\n",
      "Your results so far...\n",
      "You have 4 attempts remaining.\n",
      "\n",
      "display_results- wordle.attempts: ['SLATE', 'BREAD']\n",
      "display_results- word: SLATE\n",
      "display_results- word: BREAD\n",
      "┌───────────┐\n",
      "│ \u001b[43m\u001b[30mS\u001b[39m\u001b[49m \u001b[37m\u001b[30mL\u001b[39m\u001b[49m \u001b[37m\u001b[30mA\u001b[39m\u001b[49m \u001b[37m\u001b[30mT\u001b[39m\u001b[49m \u001b[42m\u001b[30mE\u001b[39m\u001b[49m │\n",
      "│ \u001b[37m\u001b[30mB\u001b[39m\u001b[49m \u001b[43m\u001b[30mR\u001b[39m\u001b[49m \u001b[43m\u001b[30mE\u001b[39m\u001b[49m \u001b[37m\u001b[30mA\u001b[39m\u001b[49m \u001b[37m\u001b[30mD\u001b[39m\u001b[49m │\n",
      "│ _ _ _ _ _ │\n",
      "│ _ _ _ _ _ │\n",
      "│ _ _ _ _ _ │\n",
      "│ _ _ _ _ _ │\n",
      "└───────────┘\n",
      "[] <class 'list'>\n"
     ]
    }
   ],
   "source": [
    "# This is the line that runs the game\n",
    "if __name__ == \"__main__\":\n",
    "    main()"
   ]
  },
  {
   "cell_type": "markdown",
   "id": "d8b34bd4",
   "metadata": {},
   "source": [
    "# To Do list\n",
    "\n",
    "## pull down ny times wordle list\n",
    "Current list is 10k words long and many are esoteric so people won't know many of the words.\n",
    "## produce feedback for the agent\n",
    "make feedback file for agent to interact with\n",
    "## produce logging file\n",
    "Data from the games\n",
    "## produce information gain data from the vocabulary data\n",
    "This will use the feedback function to evaluate the information gain of the other words in the vocabulary as guesses.  The resulting matrix could be useful in a search tree context"
   ]
  },
  {
   "cell_type": "markdown",
   "id": "a34df64f",
   "metadata": {},
   "source": [
    "# experimental code below is not yet working"
   ]
  },
  {
   "cell_type": "code",
   "execution_count": null,
   "id": "be2281b6",
   "metadata": {},
   "outputs": [],
   "source": []
  },
  {
   "cell_type": "code",
   "execution_count": 9,
   "id": "983d64a5",
   "metadata": {},
   "outputs": [
    {
     "name": "stdout",
     "output_type": "stream",
     "text": [
      "[] <class 'list'>\n"
     ]
    }
   ],
   "source": [
    "agent_guess_list = check_agent_list()"
   ]
  },
  {
   "cell_type": "code",
   "execution_count": 10,
   "id": "76e15c9e",
   "metadata": {},
   "outputs": [
    {
     "data": {
      "text/plain": [
       "0"
      ]
     },
     "execution_count": 10,
     "metadata": {},
     "output_type": "execute_result"
    }
   ],
   "source": [
    "len(agent_guess_list)"
   ]
  },
  {
   "cell_type": "code",
   "execution_count": 11,
   "id": "6da1a2be",
   "metadata": {},
   "outputs": [
    {
     "data": {
      "text/plain": [
       "[]"
      ]
     },
     "execution_count": 11,
     "metadata": {},
     "output_type": "execute_result"
    }
   ],
   "source": [
    "agent_guess_list"
   ]
  },
  {
   "cell_type": "code",
   "execution_count": 12,
   "id": "86834770",
   "metadata": {},
   "outputs": [
    {
     "ename": "IndexError",
     "evalue": "pop from empty list",
     "output_type": "error",
     "traceback": [
      "\u001b[1;31m---------------------------------------------------------------------------\u001b[0m",
      "\u001b[1;31mIndexError\u001b[0m                                Traceback (most recent call last)",
      "Cell \u001b[1;32mIn [12], line 2\u001b[0m\n\u001b[0;32m      1\u001b[0m \u001b[38;5;28mtype\u001b[39m(agent_guess_list)\n\u001b[1;32m----> 2\u001b[0m one \u001b[38;5;241m=\u001b[39m agent_guess_list\u001b[38;5;241m.\u001b[39mpop()\n\u001b[0;32m      3\u001b[0m \u001b[38;5;28mprint\u001b[39m(\u001b[38;5;28mtype\u001b[39m(one), one)\n",
      "\u001b[1;31mIndexError\u001b[0m: pop from empty list"
     ]
    }
   ],
   "source": [
    "type(agent_guess_list)\n",
    "one = agent_guess_list.pop()\n",
    "print(type(one), one)"
   ]
  },
  {
   "cell_type": "code",
   "execution_count": null,
   "id": "8fc0b95d",
   "metadata": {},
   "outputs": [],
   "source": []
  },
  {
   "cell_type": "code",
   "execution_count": 79,
   "id": "67b45f37",
   "metadata": {},
   "outputs": [],
   "source": [
    "# this function needs to be provided a guess that is 5 letters \n",
    "# and a word set that is a numpy array list of 5 letter words. \n",
    "def feedback(guess,np_word_list):\n",
    "    guess = guess.upper()\n",
    "    print(wordle.secret,wordle.attempts)\n",
    "    secret = wordle.secret\n",
    "            \n",
    "    # this makes green results\n",
    "    green_result = \"\"\n",
    "    maskedword = \"\"\n",
    "    myregexstring = [[],[],[],[],[]]\n",
    "\n",
    "    for i in range(len(secret)):\n",
    "        same = (guess[i] in secret[i])\n",
    "        green_result += str(int(same))\n",
    "        if same:\n",
    "            maskedword += \"*\"\n",
    "            myregexstring[i] = guess[i]\n",
    "        else:\n",
    "            maskedword += secret[i]\n",
    "    print(\"maskedword\",maskedword)\n",
    "    print(\"green result\",green_result)\n",
    "\n",
    "    # This makes yellow results\n",
    "    yellow_result = \"\"\n",
    "    myisinstring = \"\"\n",
    "    myisinfstring = '(?=.*{}.*)'\n",
    "\n",
    "    for i in range(len(maskedword)):\n",
    "        isin = (guess[i] in maskedword)\n",
    "        if isin:\n",
    "            myregexstring[i].append(guess[i])\n",
    "            myisinstring += f'(?=.*{guess[i]}.*)'\n",
    "\n",
    "        yellow_result += str(int(isin))\n",
    "    print(\"yellow_result\",yellow_result)\n",
    "\n",
    "    # greylist is a list of letters that are not green and are not yellow\n",
    "    # the idea is that the letter has not been filtered out\n",
    "    # not_green_list is a list of positions that are not green\n",
    "\n",
    "    grey_list = []\n",
    "    not_green_list = []\n",
    "    for i in range(len(yellow_result)):\n",
    "        #print(green_result[i]== \"0\", yellow_result[i] == \"0\")\n",
    "        if green_result[i] == \"0\":\n",
    "            not_green_list.append(i)\n",
    "        if green_result[i] == \"0\" and yellow_result[i] == \"0\" and guess[i] not in grey_list:\n",
    "            print(guess[i])\n",
    "            grey_list.append(guess[i])\n",
    "        print(i,secret[i],guess[i],green_result[i],yellow_result[i],grey_list,not_green_list)\n",
    "    print(\"grey_list\",grey_list)\n",
    "    print(\"not_green_list\",not_green_list)\n",
    "\n",
    "\n",
    "    # this builds a myregexstring that is used to produce a regular expression string\n",
    "    # that is used to filter out words from the vocabulary list based on the restrictions of the wordle feedback\n",
    "\n",
    "    for i in not_green_list:\n",
    "        for grey in grey_list:\n",
    "            if not grey in myregexstring[i]:\n",
    "                myregexstring[i].append(grey)\n",
    "    print(\"myregexstring\",myregexstring)\n",
    "    print(\"myisinstring\",myisinstring)\n",
    "\n",
    "    #wordlist_five\n",
    "\n",
    "    finalregexstring = \"\"\n",
    "    for i in myregexstring:\n",
    "        if type(i) == list:\n",
    "            list_string = \"\".join(i)\n",
    "            f_list_string = \"[^{}]\".format(list_string)\n",
    "            print(\"list_string\",list_string,f_list_string)\n",
    "            finalregexstring += f_list_string\n",
    "        elif type(i) == str:\n",
    "            finalregexstring += i\n",
    "        print(i,type(i),str(i),finalregexstring)\n",
    "    regexstring_out = \"(?={}){}\".format(finalregexstring,myisinstring)\n",
    "    print(regexstring_out)\n",
    "    \n",
    "    ### this is the original word set as a np array.\n",
    "    ### the first use of this is to evaluate the reduction of the entire word set\n",
    "    ### i'm commenting this out so that the word set can be provided to the function\n",
    "    ### This provides a way to pass in a reduced data set\n",
    "    #np_word_list = np.array(list(word_set))\n",
    "    \n",
    "    \n",
    "    myregexresult = np_word_list[(list(map(lambda x: bool(re.match(regexstring_out,x)),np_word_list)))]\n",
    "    print(myregexresult)\n",
    "    mylength = len(myregexresult)\n",
    "    print(mylength)\n",
    "    return(green_result,yellow_result,grey_list,not_green_list,regexstring_out,mylength,myregexresult)\n",
    "        \n",
    "        \n",
    "    "
   ]
  },
  {
   "cell_type": "code",
   "execution_count": 44,
   "id": "6e7b438e",
   "metadata": {},
   "outputs": [
    {
     "name": "stdout",
     "output_type": "stream",
     "text": [
      "QUICA\n"
     ]
    }
   ],
   "source": [
    "    word_set = load_word_set(\"data/wordle_words.txt\")\n",
    "    secret = random.choice(list(word_set))\n",
    "    wordle = Wordle(secret)\n",
    "    print(secret)"
   ]
  },
  {
   "cell_type": "code",
   "execution_count": 58,
   "id": "9eb0b857",
   "metadata": {},
   "outputs": [
    {
     "data": {
      "text/plain": [
       "'SULKA'"
      ]
     },
     "execution_count": 58,
     "metadata": {},
     "output_type": "execute_result"
    }
   ],
   "source": [
    "type(list(word_set))\n",
    "np_word_list = np.array(list(word_set))\n",
    "np_word_list[0]"
   ]
  },
  {
   "cell_type": "code",
   "execution_count": 80,
   "id": "7cc15307",
   "metadata": {},
   "outputs": [
    {
     "name": "stdout",
     "output_type": "stream",
     "text": [
      "QUICA []\n",
      "maskedword QUICA\n",
      "green result 00000\n",
      "yellow_result 01000\n",
      "R\n",
      "0 Q R 0 0 ['R'] [0]\n",
      "1 U A 0 1 ['R'] [0, 1]\n",
      "N\n",
      "2 I N 0 0 ['R', 'N'] [0, 1, 2]\n",
      "D\n",
      "3 C D 0 0 ['R', 'N', 'D'] [0, 1, 2, 3]\n",
      "O\n",
      "4 A O 0 0 ['R', 'N', 'D', 'O'] [0, 1, 2, 3, 4]\n",
      "grey_list ['R', 'N', 'D', 'O']\n",
      "not_green_list [0, 1, 2, 3, 4]\n",
      "myregexstring [['R', 'N', 'D', 'O'], ['A', 'R', 'N', 'D', 'O'], ['R', 'N', 'D', 'O'], ['R', 'N', 'D', 'O'], ['R', 'N', 'D', 'O']]\n",
      "myisinstring (?=.*A.*)\n",
      "list_string RNDO [^RNDO]\n",
      "['R', 'N', 'D', 'O'] <class 'list'> ['R', 'N', 'D', 'O'] [^RNDO]\n",
      "list_string ARNDO [^ARNDO]\n",
      "['A', 'R', 'N', 'D', 'O'] <class 'list'> ['A', 'R', 'N', 'D', 'O'] [^RNDO][^ARNDO]\n",
      "list_string RNDO [^RNDO]\n",
      "['R', 'N', 'D', 'O'] <class 'list'> ['R', 'N', 'D', 'O'] [^RNDO][^ARNDO][^RNDO]\n",
      "list_string RNDO [^RNDO]\n",
      "['R', 'N', 'D', 'O'] <class 'list'> ['R', 'N', 'D', 'O'] [^RNDO][^ARNDO][^RNDO][^RNDO]\n",
      "list_string RNDO [^RNDO]\n",
      "['R', 'N', 'D', 'O'] <class 'list'> ['R', 'N', 'D', 'O'] [^RNDO][^ARNDO][^RNDO][^RNDO][^RNDO]\n",
      "(?=[^RNDO][^ARNDO][^RNDO][^RNDO][^RNDO])(?=.*A.*)\n",
      "['SULKA' 'MECCA' 'TUATH' 'MBAYA' 'PLASM' 'VIVAX' 'AGUSH' 'TEACH' 'PHYLA'\n",
      " 'SEPTA' 'ABASK' 'SLAMP' 'MIAUL' 'APEAK' 'THEAH' 'AEGLE' 'UPUPA' 'SEPAL'\n",
      " 'GLAUM' 'LULAB' 'BELAY' 'MESAL' 'AWHET' 'CHYAK' 'GLEBA' 'STAGE' 'AMPLE'\n",
      " 'TEASY' 'ASSAI' 'EPACT' 'SHAKA' 'HEUAU' 'PICEA' 'AKPEK' 'ALBEE' 'ALECK'\n",
      " 'ALGUM' 'BIGHA' 'HEAVE' 'SKATE' 'UPLAY' 'UPWAY' 'CLAUT' 'UKASE' 'SIMAL'\n",
      " 'ELATE' 'GUAZA' 'PLAGE' 'BHALU' 'SWAMP' 'PULKA' 'ACKEY' 'STAUK' 'ATLAS'\n",
      " 'SCAWL' 'KHAMI' 'AVAIL' 'PUPAL' 'PLACE' 'SHALT' 'PICAL' 'FLACK' 'SCAUM'\n",
      " 'ALICE' 'SCAUP' 'CHAPT' 'WHAMP' 'MEATY' 'SCALL' 'LEILA' 'FEAZE' 'STAAB'\n",
      " 'ALGIC' 'LUKAS' 'KHASS' 'AZYME' 'SHAFT' 'STEAK' 'SMACK' 'UVATE' 'ASPIC'\n",
      " 'PUCKA' 'PHASM' 'HEAPY' 'CLAIM' 'CHAWK' 'MBUBA' 'SULFA' 'STEAM' 'ALISH'\n",
      " 'TUZLA' 'SIEVA' 'ALBUS' 'TZAAM' 'GLAZE' 'QUAKY' 'BEGAT' 'HEMAL' 'BLAFF'\n",
      " 'USAGE' 'ACAPU' 'LEXIA' 'CLAWK' 'ISMAL' 'PIZZA' 'AXITE' 'UVULA' 'AGATE'\n",
      " 'AGAMI' 'KLAUS' 'ALLYL' 'AGAVE' 'AWAFT' 'PEATY' 'KHAJA' 'SWAMI' 'AMULA'\n",
      " 'TEATY' 'QUAIL' 'UZBAK' 'AMITA' 'AKEBI' 'CLIMA' 'AMATI' 'CHAGA' 'CULPA'\n",
      " 'SPICA' 'CISTA' 'PEASY' 'VIUVA' 'BEAUX' 'MULGA' 'EVASE' 'AKALI' 'SPLAT'\n",
      " 'SHEWA' 'ALIKE' 'QUEAK' 'LILAC' 'THATS' 'SWACK' 'ALIAS' 'PHASE' 'WHEAL'\n",
      " 'SLAKE' 'APHIS' 'STAVE' 'AYELP' 'LEUMA' 'BUKAT' 'IHLAT' 'MIASM' 'STAIA'\n",
      " 'EXACT' 'MCKAY' 'TUBAE' 'QUASH' 'ALALA' 'KEMAL' 'PITTA' 'VICIA' 'SWAMY'\n",
      " 'CHAPS' 'SPLAY' 'CYMBA' 'AMPYX' 'HILSA' 'BEMBA' 'CHAMA' 'TYPHA' 'SIGMA'\n",
      " 'ABBIE' 'BHIMA' 'WEKAU' 'LUFFA' 'SUPAI' 'AVICK' 'SPACK' 'ABWAB' 'ALGAE'\n",
      " 'GUAKA' 'CHAMP' 'AGATY' 'TESTA' 'JUMMA' 'MILHA' 'SCAUT' 'WHALM' 'SHEAT'\n",
      " 'AUMIL' 'APPET' 'THAVE' 'AGAZE' 'BELGA' 'BECAP' 'AMAGA' 'ABELE' 'SICCA'\n",
      " 'ABUSE' 'ASHES' 'THETA' 'PILEA' 'TMEMA' 'TEXAS' 'ALITE' 'GULAE' 'KELLA'\n",
      " 'BYLAW' 'LEACH' 'ACUTE' 'WHATA' 'CLEAT' 'SITKA' 'ISLAY' 'BELAM' 'SPASM'\n",
      " 'CUJAM' 'BELAH' 'AZTEC' 'KHULA' 'GISLA' 'UCKIA' 'ALATE' 'EPHAH' 'PHAET'\n",
      " 'LEKHA' 'APPLY' 'KVASS' 'QUASI' 'CHAFT' 'SHAWL' 'TWEAG' 'FUTWA' 'ILEAC'\n",
      " 'STALL' 'AWIWI' 'GUTTA' 'AFFIX' 'STASH' 'KIAKI' 'KHVAT' 'SHEVA' 'ALVUS'\n",
      " 'SJAAK' 'BYWAY' 'SCUTA' 'AFACE' 'CHACK' 'SWAPE' 'JUVIA' 'MELIA' 'CHIAM'\n",
      " 'SUMAK' 'ATAXY' 'TWALE' 'ABYSM' 'GLASS' 'KIYAS' 'PLAIT' 'ASALE' 'CLAVA'\n",
      " 'CYATH' 'PEACH' 'THAIS' 'HUBBA' 'AVAHI' 'PLATE' 'SHAPE' 'SHAUP' 'WILGA'\n",
      " 'ALPAX' 'SUBAH' 'CHAJA' 'TCAWI' 'BUAZE' 'LEPAS' 'ABACA' 'FLETA' 'WHALE'\n",
      " 'GHAZI' 'BUBAL' 'SPALT' 'ELIZA' 'CLAME' 'AWASH' 'PHYMA' 'ELAPS' 'CELIA'\n",
      " 'CHAUI' 'WHAUK' 'AGIEL' 'AWEST' 'WHASE' 'CLAPT' 'CHAFF' 'SHAHI' 'ABUTA'\n",
      " 'PLAGA' 'BULAK' 'SCHWA' 'JUYAS' 'FLEAM' 'CLASH' 'ALEUT' 'ABASH' 'SKAFF'\n",
      " 'APIUM' 'QUBBA' 'HEATH' 'BHAGA' 'FLAWY' 'STAYS' 'SMAIK' 'KETAL' 'ILIAC'\n",
      " 'AITCH' 'JUTKA' 'CHAUK' 'USHAK' 'QUAUK' 'AMISH' 'AXIAL' 'WISHA' 'BLEAT'\n",
      " 'STAMP' 'GLUMA' 'APTAL' 'AJAVA' 'ILIAL' 'PILAU' 'HEVEA' 'QUALM' 'UMIAK'\n",
      " 'SHUBA' 'ABAZE' 'SCALA' 'ABATE' 'MIAMI' 'FLAXY' 'AKALA' 'SCALT' 'AEVIA'\n",
      " 'ALLIE' 'SCASE' 'ISIAC' 'LEAKY' 'GUAVA' 'HEAVY' 'SETAL' 'CHASM' 'ALMUG'\n",
      " 'GLACE' 'VELAL' 'LEAST' 'BLAKE' 'WHEAM' 'ABAFT' 'ATYPY' 'GLAUX' 'CHAIS'\n",
      " 'ALISP' 'SCAPE' 'SIGLA' 'SPASS' 'TWEAK' 'TIBIA' 'STEMA' 'BEAMY' 'SITTA'\n",
      " 'SHELA' 'AGIST' 'AGGIE' 'SLAVE' 'BEGAY' 'CELLA' 'AMASS' 'BLAME' 'CHALK'\n",
      " 'HIPPA' 'CUMAY' 'UPBAY' 'CULLA' 'GLAGA' 'TEASE' 'SHAKE' 'KYACK' 'WEAVE'\n",
      " 'ASCUS' 'AULAE' 'STALK' 'EXALT' 'GEMMA' 'SYLVA' 'SWATH' 'KILAH' 'AYLET'\n",
      " 'ABAVE' 'SELVA' 'THEMA' 'ALAKI' 'ABAFF' 'KEITA' 'CUPAY' 'ABBEY' 'BLASE'\n",
      " 'BLACK' 'LICCA' 'SLAVI' 'LEAVY' 'SCAUL' 'ASSAM' 'MELAM' 'FUGAL' 'STAGY'\n",
      " 'ALFET' 'LYTTA' 'ASCII' 'ITALA' 'STYCA' 'SWEAL' 'PHIAL' 'PLAZA' 'FLAIL'\n",
      " 'PHYSA' 'AMUZE' 'APAMA' 'WHATS' 'SHAMA' 'ATILT' 'SULLA' 'SLAKY' 'SUMAC'\n",
      " 'HYPHA' 'TILIA' 'CHAYA' 'HUZZA' 'BEATH' 'ABIES' 'LEMMA' 'VITTA' 'AWAKE'\n",
      " 'ABSIT' 'ABEAM' 'AHEAP' 'CHAFE' 'CHEAT' 'AGUEY' 'SELAH' 'TIWAZ' 'CEIBA'\n",
      " 'WHALY' 'FLAKY' 'JELAB' 'SIFAC' 'BIHAM' 'SPACE' 'CUECA' 'QUACK' 'ACMIC'\n",
      " 'SCEAT' 'STAUP' 'CHAKA' 'TEKYA' 'CHUFA' 'TEGUA' 'VLACH' 'AWFUL' 'ALGAL'\n",
      " 'BEISA' 'GEASE' 'KUSHA' 'ISAAC' 'GUIBA' 'AWAIT' 'SCALP' 'PEAGE' 'MILLA'\n",
      " 'APISH' 'CILIA' 'BEMAT' 'KUBBA' 'AMBAY' 'SHITA' 'BIHAI' 'AUTEM' 'AFIFI'\n",
      " 'ABACK' 'ASWIM' 'GETAH' 'PSHAV' 'SHAUL' 'SCLAW' 'YUCCA' 'TCHAI' 'SPEAL'\n",
      " 'LEASH' 'BLAST' 'CHAIT' 'PICAE' 'LELIA' 'FLASK' 'AKASA' 'ECHEA' 'SESMA'\n",
      " 'WIYAT' 'SCALY' 'ETHAL' 'SPALL' 'WHIBA' 'SHAWY' 'PIAST' 'ILIAU' 'ALIVE'\n",
      " 'SHAPS' 'CYCAS' 'SMALM' 'SQUAM' 'STALE' 'AWEEL' 'ACLYS' 'SLAUM' 'WHALP'\n",
      " 'APPAY' 'QUALE' 'KHAKI' 'MEALY' 'EMESA' 'SEPIA' 'KULAK' 'TUBAL' 'CLEAM'\n",
      " 'QUAFF' 'LEAVE' 'BILLA' 'FEAST' 'KEAWE' 'KISWA' 'QUATA' 'ZYGAL' 'GUABA'\n",
      " 'CLAVY' 'SMASH' 'STELA' 'FLASH' 'ASAPH' 'BEKAH' 'AHMET' 'CHEKA' 'VESTA'\n",
      " 'SISAL' 'UVEAL' 'CEASE' 'ASWAY' 'HEAPS' 'SPEAK' 'AGASP' 'BEHAP' 'ALACK'\n",
      " 'JULIA' 'AMPUL' 'AGAMY' 'PLACK' 'PLAYA' 'UPWAX' 'HUAVE' 'AHULL' 'LIMMA'\n",
      " 'PLASS' 'VIGIA' 'ASYLA' 'ILIMA' 'LEGUA' 'AGUST' 'PUBAL' 'LLAMA' 'FETAL'\n",
      " 'BEPAW' 'METAL' 'SEQUA' 'QUILA' 'ATTIC' 'HEIAU' 'PEAVY' 'THEAT' 'STUPA'\n",
      " 'QUAWK' 'LIGAS' 'SELLA' 'AMVIS' 'SWAGE' 'SQUAB' 'BEACH' 'QUAKE' 'SEAMY'\n",
      " 'KUSAM' 'HIATE' 'ALEAK' 'BETTA' 'TUBBA' 'ALLEY' 'SWATI' 'FLAMB' 'AIMAK'\n",
      " 'SHEAL' 'AHUSH' 'SLAIT' 'TEAZE' 'MUSHA' 'LYSSA' 'STACY' 'AJUGA' 'PLATY'\n",
      " 'BUCCA' 'PHACA' 'LEASE' 'AMUSE' 'GUSLA' 'GLAZY' 'SMALL' 'BEAKY' 'JUMBA'\n",
      " 'THAWY' 'AGILE' 'PIABA' 'AMAAS' 'MELAS' 'SHEAF' 'VISTA' 'TEPAL' 'SHALY'\n",
      " 'GLACK' 'BULLA' 'PISAY' 'KHASI' 'TEAEY' 'ALICK' 'LITAS' 'SHAWM' 'PHAGE'\n",
      " 'SHAKU' 'ISAWA' 'LEHUA' 'SEAVY' 'SILVA' 'AILIE' 'SMALT' 'APSIS' 'LEGAL'\n",
      " 'ALKYL' 'APACE' 'GLIAL' 'SILAS' 'KHAYA' 'AYLLU' 'ALUTA' 'TSUGA' 'SHIAH'\n",
      " 'AMBLE' 'VEALY' 'SLAPE' 'WHACK' 'EQUAL' 'ALCAE' 'WHAME' 'MESUA' 'XYLIA'\n",
      " 'CLAVE' 'AGAMA' 'AIZLE' 'SPACY' 'ASTAY' 'ATEBA' 'TICAL' 'BUTEA' 'ALWAY'\n",
      " 'ALKES' 'STAKE' 'SPAHI' 'SIZAL' 'UPEAT' 'BETAG' 'ZIZIA' 'ECTAL' 'STAFF'\n",
      " 'APTLY' 'AMELU' 'CHEAP' 'AKEKI' 'AMITY' 'GETAE' 'KULAH' 'ATAVI' 'YEAST'\n",
      " 'STEAL' 'USUAL' 'TYPAL' 'ISLAM' 'LEAFY' 'AGSAM' 'ASSAY' 'SHAME' 'CHATI'\n",
      " 'AIMEE' 'PLEAT' 'APPLE' 'EKAHA' 'TWALT' 'AJAJA' 'SCAMP' 'PLUMA' 'CHAZY'\n",
      " 'BEPAT' 'MICAH' 'WHEAT' 'SHACK' 'FULAH' 'STACK' 'ASKIP' 'AMSEL' 'KHILA'\n",
      " 'AGLEY' 'ATLEE' 'PLASH' 'ELIAS' 'SPAIK' 'PYGAL' 'AHWAL' 'PESAH' 'BEAST'\n",
      " 'ATULE' 'SLATY' 'AWABI' 'THUJA' 'ZIEGA' 'PELTA' 'ALAWI' 'ALPHA' 'ABAMA'\n",
      " 'ACATE' 'AEQUI' 'KIACK' 'MUSAL' 'AMUCK' 'KEBAB' 'CLAMB' 'BEATA' 'SHAKY'\n",
      " 'MYALL' 'LIMAX' 'UMAUA' 'PETAL' 'STATE' 'STIPA' 'AFLAT' 'ULEMA' 'SQUAT'\n",
      " 'TECLA' 'BLAZY' 'ALLAY' 'BELLA' 'HUTIA' 'AMICE' 'ABBAS' 'IMBAT' 'KEACH'\n",
      " 'KHUAI' 'ZILLA' 'FLEAY' 'AMAPA' 'SMAZE' 'BEBAY' 'TICCA' 'SWALE' 'CHITA'\n",
      " 'ALVAH' 'SHALL' 'KIWAI' 'CHAUS' 'MULLA' 'GUGAL' 'AVAST' 'MILPA' 'ALCES'\n",
      " 'EXEAT' 'SUAVE' 'CUEVA' 'GUASA' 'SWEAT' 'LEATH' 'PLATT' 'GLAIK' 'BLASH'\n",
      " 'SHAVE' 'GLEAM' 'ASKEW' 'ASSIS' 'LEAPT' 'GUMMA' 'KITAB' 'ICICA' 'TSUMA'\n",
      " 'BHAVA' 'AISLE' 'SPATE' 'FLAKE' 'GUAMA' 'CLACK' 'SHAPY' 'VULVA' 'QUAVE'\n",
      " 'PSHAW' 'CLAMP' 'CHELA' 'QUICA' 'AMALA' 'THACK' 'CLASP' 'AGAPE' 'SULEA'\n",
      " 'CHAWL' 'AULIC' 'TEAVE' 'ALLAH' 'FLAME' 'PEACE' 'PSALM' 'SPUTA' 'SEAVE'\n",
      " 'EMBAY' 'MEASE' 'TIGUA' 'THECA' 'PITAU' 'SLACK' 'FEATY' 'VILLA' 'ABASE'\n",
      " 'ALIMA' 'SWASH' 'JUGAL' 'WHAUP' 'BLAZE' 'SHALE' 'KWAPA' 'EIMAK' 'ASSET'\n",
      " 'ASHET' 'BLATE' 'HISPA' 'SPALE' 'CITUA' 'ECLAT' 'FECAL' 'LUCIA' 'SQUAW'\n",
      " 'IMAGE' 'AGLET' 'ALIBI' 'AMPLY' 'AMBIT' 'ALIST' 'SETAE' 'ALULA' 'PLICA'\n",
      " 'AWALT' 'SCALE' 'CUMAL' 'CHASE' 'BEBAT' 'SLATH' 'AMISS' 'SPAVE' 'AEGIS'\n",
      " 'PIPAL' 'FLAFF' 'VESPA' 'ALBUM' 'AXILE' 'SHYAM' 'APISM' 'ABUZZ' 'AMAZE'\n",
      " 'HYBLA' 'SWAZI' 'ALEPH' 'CHAPE' 'ALEFT' 'KHASA' 'SCLAV' 'SLASH' 'PEAKY'\n",
      " 'TSUBA' 'QUEAL' 'SIMIA' 'AWAVE' 'FLAMY' 'FULWA' 'CIGUA' 'SESIA' 'VITAL'\n",
      " 'SLATE' 'PHEAL' 'MITUA' 'AILLT' 'GILIA' 'VIJAY' 'SCAFF' 'XICAK' 'CLASS'\n",
      " 'MUSCA' 'ESSAY' 'AKULE' 'AUGHT' 'WEAKY' 'ABYSS' 'HUACA' 'GLAKY' 'ITALI'\n",
      " 'BLEAK' 'AWEEK' 'BEALA' 'TIKKA']\n",
      "922\n"
     ]
    }
   ],
   "source": [
    "(green_result,yellow_result,grey_list,not_green_list,regexstring_out,mylength,myregexresult) = feedback('random',np_word_list)"
   ]
  },
  {
   "cell_type": "code",
   "execution_count": null,
   "id": "8d8412a4",
   "metadata": {},
   "outputs": [],
   "source": []
  }
 ],
 "metadata": {
  "kernelspec": {
   "display_name": "Python 3 (ipykernel)",
   "language": "python",
   "name": "python3"
  },
  "language_info": {
   "codemirror_mode": {
    "name": "ipython",
    "version": 3
   },
   "file_extension": ".py",
   "mimetype": "text/x-python",
   "name": "python",
   "nbconvert_exporter": "python",
   "pygments_lexer": "ipython3",
   "version": "3.9.7"
  }
 },
 "nbformat": 4,
 "nbformat_minor": 5
}
