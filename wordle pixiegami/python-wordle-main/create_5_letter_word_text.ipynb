{
 "cells": [
  {
   "cell_type": "code",
   "execution_count": 12,
   "id": "d440258e",
   "metadata": {},
   "outputs": [],
   "source": [
    "from typing import List\n",
    "import numpy as np\n",
    "import re\n",
    "from nltk.corpus import words"
   ]
  },
  {
   "cell_type": "code",
   "execution_count": 2,
   "id": "3274fcfa",
   "metadata": {},
   "outputs": [],
   "source": [
    "wordlist_all = np.char.upper(np.array(words.words()))"
   ]
  },
  {
   "cell_type": "code",
   "execution_count": 3,
   "id": "8b442424",
   "metadata": {},
   "outputs": [
    {
     "data": {
      "text/plain": [
       "array(['A', 'A', 'AA', 'AAL', 'AALII', 'AAM', 'AANI', 'AARDVARK',\n",
       "       'AARDWOLF', 'AARON', 'AARONIC', 'AARONICAL', 'AARONITE',\n",
       "       'AARONITIC', 'AARU', 'AB', 'ABA', 'ABABDEH', 'ABABUA', 'ABAC'],\n",
       "      dtype='<U24')"
      ]
     },
     "execution_count": 3,
     "metadata": {},
     "output_type": "execute_result"
    }
   ],
   "source": [
    "wordlist_all[0:20]"
   ]
  },
  {
   "cell_type": "code",
   "execution_count": 4,
   "id": "63ad05c4",
   "metadata": {},
   "outputs": [],
   "source": [
    "length_checker = np.vectorize(len)"
   ]
  },
  {
   "cell_type": "code",
   "execution_count": 5,
   "id": "5b70a8d8",
   "metadata": {},
   "outputs": [],
   "source": [
    "wordlist_len = length_checker(wordlist_all)"
   ]
  },
  {
   "cell_type": "code",
   "execution_count": 6,
   "id": "c9395cb2",
   "metadata": {},
   "outputs": [
    {
     "data": {
      "text/plain": [
       "array([1, 1, 2, ..., 9, 3, 5])"
      ]
     },
     "execution_count": 6,
     "metadata": {},
     "output_type": "execute_result"
    }
   ],
   "source": [
    "wordlist_len"
   ]
  },
  {
   "cell_type": "code",
   "execution_count": 7,
   "id": "e0c039d0",
   "metadata": {},
   "outputs": [],
   "source": [
    "wordlist_five = wordlist_all[wordlist_len == 5]"
   ]
  },
  {
   "cell_type": "code",
   "execution_count": 8,
   "id": "82864403",
   "metadata": {},
   "outputs": [
    {
     "data": {
      "text/plain": [
       "array(['AALII', 'AARON', 'ABACA', ..., 'WOUND', 'WRONG', 'YOUNG'],\n",
       "      dtype='<U24')"
      ]
     },
     "execution_count": 8,
     "metadata": {},
     "output_type": "execute_result"
    }
   ],
   "source": [
    "wordlist_five"
   ]
  },
  {
   "cell_type": "code",
   "execution_count": 9,
   "id": "ec10e037",
   "metadata": {},
   "outputs": [
    {
     "data": {
      "text/plain": [
       "10422"
      ]
     },
     "execution_count": 9,
     "metadata": {},
     "output_type": "execute_result"
    }
   ],
   "source": [
    "len(wordlist_five)"
   ]
  },
  {
   "cell_type": "code",
   "execution_count": 13,
   "id": "bcef1ad0",
   "metadata": {},
   "outputs": [],
   "source": [
    "def write_wordlist_to_file(path: str, my_list: List[str]):\n",
    "    with open(path, \"w\") as f:\n",
    "        f.writelines(\"%s\\n\" % l for l in my_list)"
   ]
  },
  {
   "cell_type": "code",
   "execution_count": 14,
   "id": "fb7e8b83",
   "metadata": {},
   "outputs": [],
   "source": [
    "write_wordlist_to_file(\"data/wordle_words.txt\",wordlist_five)"
   ]
  },
  {
   "cell_type": "code",
   "execution_count": null,
   "id": "5641f1c4",
   "metadata": {},
   "outputs": [],
   "source": []
  }
 ],
 "metadata": {
  "kernelspec": {
   "display_name": "Python 3 (ipykernel)",
   "language": "python",
   "name": "python3"
  },
  "language_info": {
   "codemirror_mode": {
    "name": "ipython",
    "version": 3
   },
   "file_extension": ".py",
   "mimetype": "text/x-python",
   "name": "python",
   "nbconvert_exporter": "python",
   "pygments_lexer": "ipython3",
   "version": "3.9.7"
  }
 },
 "nbformat": 4,
 "nbformat_minor": 5
}
