{
 "cells": [
  {
   "cell_type": "code",
   "execution_count": 28,
   "id": "47795b89",
   "metadata": {},
   "outputs": [],
   "source": [
    "my_counter = {0:0,1:0,2:0,3:0,4:0,5:0,6:0}"
   ]
  },
  {
   "cell_type": "code",
   "execution_count": 31,
   "id": "65deb7bc",
   "metadata": {},
   "outputs": [
    {
     "data": {
      "text/plain": [
       "{0: 1, 1: 0, 2: 0, 3: 0, 4: 0, 5: 0, 6: 0}"
      ]
     },
     "execution_count": 31,
     "metadata": {},
     "output_type": "execute_result"
    }
   ],
   "source": [
    "my_counter"
   ]
  },
  {
   "cell_type": "code",
   "execution_count": 30,
   "id": "dbedfd7c",
   "metadata": {},
   "outputs": [],
   "source": [
    "my_counter[0]+= 1"
   ]
  },
  {
   "cell_type": "code",
   "execution_count": 32,
   "id": "8b19ac84",
   "metadata": {},
   "outputs": [],
   "source": [
    "my_counter[1]+= 1"
   ]
  },
  {
   "cell_type": "code",
   "execution_count": 34,
   "id": "caad3781",
   "metadata": {},
   "outputs": [
    {
     "name": "stdout",
     "output_type": "stream",
     "text": [
      "0\n",
      "1\n",
      "2\n",
      "3\n",
      "4\n",
      "5\n",
      "6\n"
     ]
    }
   ],
   "source": [
    "for i in  my_counter:\n",
    "    print (i)"
   ]
  },
  {
   "cell_type": "code",
   "execution_count": null,
   "id": "c9d0476b",
   "metadata": {},
   "outputs": [],
   "source": []
  }
 ],
 "metadata": {
  "kernelspec": {
   "display_name": "Python 3 (ipykernel)",
   "language": "python",
   "name": "python3"
  },
  "language_info": {
   "codemirror_mode": {
    "name": "ipython",
    "version": 3
   },
   "file_extension": ".py",
   "mimetype": "text/x-python",
   "name": "python",
   "nbconvert_exporter": "python",
   "pygments_lexer": "ipython3",
   "version": "3.9.13"
  }
 },
 "nbformat": 4,
 "nbformat_minor": 5
}
