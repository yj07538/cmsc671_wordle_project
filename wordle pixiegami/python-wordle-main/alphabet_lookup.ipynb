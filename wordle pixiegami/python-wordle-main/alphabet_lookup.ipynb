{
 "cells": [
  {
   "cell_type": "code",
   "execution_count": 1,
   "id": "dd12625a",
   "metadata": {},
   "outputs": [],
   "source": [
    "#pip install import-ipynb"
   ]
  },
  {
   "cell_type": "code",
   "execution_count": 306,
   "id": "7c84f0ea",
   "metadata": {},
   "outputs": [],
   "source": [
    "import string\n",
    "import numpy as np\n",
    "import import_ipynb\n",
    "import pixigame_modified_play_wordle_with_agent_loop\n",
    "import random\n",
    "from wordle import Wordle\n",
    "import re\n",
    "import time\n",
    "from collections import namedtuple\n",
    "from collections import defaultdict\n",
    "import pandas as pd"
   ]
  },
  {
   "cell_type": "code",
   "execution_count": 527,
   "id": "7219a7a3",
   "metadata": {},
   "outputs": [
    {
     "name": "stdout",
     "output_type": "stream",
     "text": [
      "BUNNY\n"
     ]
    }
   ],
   "source": [
    "import alphabet"
   ]
  },
  {
   "cell_type": "code",
   "execution_count": null,
   "id": "f408eb9b",
   "metadata": {},
   "outputs": [],
   "source": [
    "alphabet = string.ascii_uppercase"
   ]
  },
  {
   "cell_type": "code",
   "execution_count": null,
   "id": "c6642276",
   "metadata": {},
   "outputs": [],
   "source": [
    "alphabet"
   ]
  },
  {
   "cell_type": "code",
   "execution_count": 8,
   "id": "b206184d",
   "metadata": {},
   "outputs": [],
   "source": [
    "def load_word_set(path: str):\n",
    "    word_set = set()\n",
    "    with open(path, \"r\") as f:\n",
    "        for line in f.readlines():\n",
    "            word = line.strip().upper()\n",
    "            word_set.add(word)\n",
    "    return word_set"
   ]
  },
  {
   "cell_type": "markdown",
   "id": "3a7f1a51",
   "metadata": {},
   "source": [
    "# feedback function"
   ]
  },
  {
   "cell_type": "code",
   "execution_count": 163,
   "id": "08741c3a",
   "metadata": {},
   "outputs": [
    {
     "name": "stdout",
     "output_type": "stream",
     "text": [
      "ATTIC\n"
     ]
    }
   ],
   "source": [
    "# word_set = load_word_set(\"data/wordle_words.txt\") # this is a 10k 5-letter word list \n",
    "#                                                     this is not representative of actual wordle game play\n",
    "#\n",
    "word_set = load_word_set(\"data/wordle_la.txt\") # this is the reduced possible wordle word list\n",
    "\n",
    "np_word_list = np.array(list(word_set))  # this makes the word_set into an np.array for my processing\n",
    "secret = random.choice(list(word_set))\n",
    "wordle = Wordle(secret)  # this launches the wordle game and provides the secret to the game\n",
    "print(secret)  # this shows us the secret word"
   ]
  },
  {
   "cell_type": "code",
   "execution_count": null,
   "id": "a6e981a9",
   "metadata": {},
   "outputs": [],
   "source": [
    "np_word_list[0]"
   ]
  },
  {
   "cell_type": "code",
   "execution_count": null,
   "id": "5d79b01d",
   "metadata": {},
   "outputs": [],
   "source": [
    "len(np_word_list)"
   ]
  },
  {
   "cell_type": "code",
   "execution_count": 136,
   "id": "576d0cce",
   "metadata": {},
   "outputs": [],
   "source": [
    "my_secret = wordle.secret  # this is the actual secret word from the wordle game instance that is running\n",
    "my_guess = \"STINT\"  # this is my guess word for the feedback function"
   ]
  },
  {
   "cell_type": "code",
   "execution_count": 238,
   "id": "c9fb5dfd",
   "metadata": {},
   "outputs": [],
   "source": [
    "# this function needs to be provided a guess that is 5 letters \n",
    "# and a word set that is a numpy array list of 5 letter words. \n",
    "# This function can be provided a secret which is the secret word it is comparing the guess to\n",
    "# The default for this function can get this secret from wordle.secret  secret=wordle.secret\n",
    "# \n",
    "# this function has been written with default settings that can be overridden\n",
    "# these function are the secret,np_word_list, printing, and my_return_complex\n",
    "# \n",
    "# secret is used in the master agent game play to provide the game: secret=wordle.secret\n",
    "# \n",
    "# np_word_list is the vocabulary list the function is working with: np_word_list=np_word_list \n",
    "#      you can provide a different list by specifying a new list: np_word_list=np_other_list\n",
    "# \n",
    "# printing controls whether the debuging printing is done or not: printing =False can be set to true: printing=True\n",
    "#\n",
    "# my_return_complex controls the return function of the function: my_return_complex=False\n",
    "# the default returns a size integer.  This is leveraged by an np.vectorize function that requires a simple output\n",
    "# \n",
    "\n",
    "\n",
    "# the my_return_complex=True setting will return a namedtuple\n",
    "# in this mode the return is a named tuple with these named tuples: \n",
    "# green_result,yellow_result,grey_list,not_green_list,regexstring_out,mylength,myregexresult\n",
    "#\n",
    "# \n",
    "# this is run like this:\n",
    "# np_vocab_reduction = np.vectorize(feedback)\n",
    "# mylengtharray = np_vocab_reduction(np_word_list,secret = my_secret,printing=False)\n",
    "# mylengtharray[0:50]\n",
    "#\n",
    "# array([  1, 524,  59,   5, 172,  53, 207,  36, 284,  78, 357,  26,  12,\n",
    "#          5, 459, 970,  76,  19, 208, 159, 237,   4, 169,  98, 103, 290,\n",
    "#         53,  21, 212, 238,  68,  16, 126, 129, 172, 218, 145,  11, 228,\n",
    "#          2,  84, 302, 116,  15,  13,  19, 146, 285,  24,  19])\n",
    "#\n",
    "# np_word_list[mylengtharray == 1]\n",
    "# array(['SATIN', 'STERN', 'SALON', 'SLAIN', 'STRIP', 'STAIR', 'STEIN',\n",
    "#        'PATSY', 'STINT', 'BASIC', 'SCANT', 'PATIO', 'STONE', 'FAINT',\n",
    "#        'TRAIN', 'STANK', 'STAIN', 'SATYR', 'PAINT', 'SLANT', 'STAND',\n",
    "#        'WAIST', 'STING', 'STONY', 'UNTIE', 'BASIS', 'STUNT', 'BASIL',\n",
    "#        'BASIN', 'SAINT', 'STINK', 'STAID', 'UNTIL', 'TAINT', 'MASON',\n",
    "#        'RATIO', 'ARTSY', 'TITAN', 'SNAIL', 'ANTIC', 'CABIN'], dtype='<U5')\n",
    "#\n",
    "# running this function in this way is done like this:\n",
    "# my_results = feedback('bread',secret = my_secret,np_word_list=np_word_list,printing=True,my_return_complex=True)\n",
    "#\n",
    "# this provides the capability to run this kind of command:\n",
    "# print(my_results.myregexresult)\n",
    "# each of these results can be used: \n",
    "#      my_results.green_result                00100 \n",
    "#      my_results.yellow_result               00001\n",
    "#      my_results.grey_list                   ['B', 'R', 'E', 'D']\n",
    "#      my_results.not_green_list              [0, 1, 2, 3, 4]\n",
    "#      my_results.regexstring_out             (?=[^BRED][^BRED][^BRED][^ABRED][^BRED])(?=.*A.*)\n",
    "#      my_results.mylength                    235\n",
    "#      my_results.myregexresult               ['SATIN' 'FLASK' 'TAUNT' 'FLANK' 'SALVO' 'FAITH' 'AMITY' 'CAULK' 'LOAMY'\n",
    "#                                             ...\n",
    "#                                             'CANNY']\n",
    "\n",
    "def feedback(guess ,secret=my_secret, np_word_list=np_word_list,printing=False,my_return_complex=False):\n",
    "    guess = guess.upper()\n",
    "    if printing == True: print(\"Top of the feedback function\\n\",\"secret\",secret,\"guess\",guess,wordle.attempts ) \n",
    "    #secret = wordle.secret\n",
    "            \n",
    "    # this makes green results\n",
    "    green_result = \"\"\n",
    "    maskedword = \"\"\n",
    "    myregexstring = [[],[],[],[],[]]\n",
    "\n",
    "    for i in range(len(secret)):\n",
    "        same = (guess[i] in secret[i])\n",
    "        green_result += str(int(same))\n",
    "        if same:\n",
    "            maskedword += \"*\"\n",
    "            myregexstring[i] = guess[i]\n",
    "        else:\n",
    "            maskedword += secret[i]\n",
    "    if printing == True: print(\"maskedword\",maskedword)\n",
    "    if printing == True: print(\"green result\",green_result)\n",
    "\n",
    "    # This makes yellow results\n",
    "    yellow_result = \"\"\n",
    "    myisinstring = \"\"\n",
    "    myisinfstring = '(?=.*{}.*)'\n",
    "\n",
    "    for i in range(len(maskedword)):\n",
    "        isin = (guess[i] in maskedword)\n",
    "        if isin:\n",
    "            myregexstring[i].append(guess[i])\n",
    "            myisinstring += f'(?=.*{guess[i]}.*)'\n",
    "\n",
    "        yellow_result += str(int(isin))\n",
    "    if printing == True: print(\"yellow_result\",yellow_result)\n",
    "\n",
    "    # greylist is a list of letters that are not green and are not yellow\n",
    "    # the idea is that the letter has not been filtered out\n",
    "    # not_green_list is a list of positions that are not green\n",
    "\n",
    "    grey_list = []\n",
    "    not_green_list = []\n",
    "    for i in range(len(yellow_result)):\n",
    "        #print(green_result[i]== \"0\", yellow_result[i] == \"0\")\n",
    "        if green_result[i] == \"0\":\n",
    "            not_green_list.append(i)\n",
    "        if green_result[i] == \"0\" and yellow_result[i] == \"0\" and guess[i] not in grey_list:\n",
    "            if printing == True: print(guess[i])\n",
    "            grey_list.append(guess[i])\n",
    "        if printing == True: print(i,secret[i],guess[i],green_result[i],yellow_result[i],grey_list,not_green_list)\n",
    "    if printing == True: print(\"grey_list\",grey_list)\n",
    "    if printing == True: print(\"not_green_list\",not_green_list)\n",
    "\n",
    "\n",
    "    # this builds a myregexstring that is used to produce a regular expression string\n",
    "    # that is used to filter out words from the vocabulary list based on the restrictions of the wordle feedback\n",
    "\n",
    "    for i in not_green_list:\n",
    "        for grey in grey_list:\n",
    "            if not grey in myregexstring[i]:\n",
    "                myregexstring[i].append(grey)\n",
    "    if printing == True: print(\"myregexstring\",myregexstring)\n",
    "    if printing == True: print(\"myisinstring\",myisinstring)\n",
    "\n",
    "    #wordlist_five\n",
    "\n",
    "    finalregexstring = \"\"\n",
    "    for i in myregexstring:\n",
    "        if type(i) == list:\n",
    "            list_string = \"\".join(i)\n",
    "            f_list_string = \"[^{}]\".format(list_string)\n",
    "            if printing == True: print(\"list_string\",list_string,f_list_string)\n",
    "            finalregexstring += f_list_string\n",
    "        elif type(i) == str:\n",
    "            finalregexstring += i\n",
    "        if printing == True: print(i,type(i),str(i),finalregexstring)\n",
    "    regexstring_out = \"(?={}){}\".format(finalregexstring,myisinstring)\n",
    "    if printing == True: print(regexstring_out)\n",
    "    \n",
    "    ### this is the original word set as a np array.\n",
    "    ### the first use of this is to evaluate the reduction of the entire word set\n",
    "    ### i'm commenting this out so that the word set can be provided to the function\n",
    "    ### This provides a way to pass in a reduced data set\n",
    "    #np_word_list = np.array(list(word_set))\n",
    "    \n",
    "    \n",
    "    myregexresult = np_word_list[(list(map(lambda x: bool(re.match(regexstring_out,x)),np_word_list)))]\n",
    "    if printing == True: print(myregexresult)\n",
    "    mylength = len(myregexresult)\n",
    "    if printing == True: print(mylength)\n",
    "    #return(green_result,yellow_result,grey_list,not_green_list,regexstring_out,mylength,myregexresult)\n",
    "\n",
    "\n",
    "    myresults = namedtuple(\"myresults\",[\"green_result\",\"yellow_result\",\"grey_list\",\"not_green_list\",\"regexstring_out\",\"mylength\",\"myregexresult\"])\n",
    "    results = myresults(green_result,yellow_result,grey_list,not_green_list,regexstring_out,mylength,myregexresult)\n",
    "    if my_return_complex == True:\n",
    "        return(results)\n",
    "    else:\n",
    "        return(mylength)\n",
    "\n",
    "    "
   ]
  },
  {
   "cell_type": "markdown",
   "id": "fa12fe34",
   "metadata": {},
   "source": [
    "# This runs the script as default my_return_complex which is my_return_complex=False\n"
   ]
  },
  {
   "cell_type": "code",
   "execution_count": 247,
   "id": "06c3e88f",
   "metadata": {},
   "outputs": [
    {
     "name": "stdout",
     "output_type": "stream",
     "text": [
      "Top of the feedback function\n",
      " secret SATIN guess BREAD []\n",
      "maskedword SATIN\n",
      "green result 00000\n",
      "yellow_result 00010\n",
      "B\n",
      "0 S B 0 0 ['B'] [0]\n",
      "R\n",
      "1 A R 0 0 ['B', 'R'] [0, 1]\n",
      "E\n",
      "2 T E 0 0 ['B', 'R', 'E'] [0, 1, 2]\n",
      "3 I A 0 1 ['B', 'R', 'E'] [0, 1, 2, 3]\n",
      "D\n",
      "4 N D 0 0 ['B', 'R', 'E', 'D'] [0, 1, 2, 3, 4]\n",
      "grey_list ['B', 'R', 'E', 'D']\n",
      "not_green_list [0, 1, 2, 3, 4]\n",
      "myregexstring [['B', 'R', 'E', 'D'], ['B', 'R', 'E', 'D'], ['B', 'R', 'E', 'D'], ['A', 'B', 'R', 'E', 'D'], ['B', 'R', 'E', 'D']]\n",
      "myisinstring (?=.*A.*)\n",
      "list_string BRED [^BRED]\n",
      "['B', 'R', 'E', 'D'] <class 'list'> ['B', 'R', 'E', 'D'] [^BRED]\n",
      "list_string BRED [^BRED]\n",
      "['B', 'R', 'E', 'D'] <class 'list'> ['B', 'R', 'E', 'D'] [^BRED][^BRED]\n",
      "list_string BRED [^BRED]\n",
      "['B', 'R', 'E', 'D'] <class 'list'> ['B', 'R', 'E', 'D'] [^BRED][^BRED][^BRED]\n",
      "list_string ABRED [^ABRED]\n",
      "['A', 'B', 'R', 'E', 'D'] <class 'list'> ['A', 'B', 'R', 'E', 'D'] [^BRED][^BRED][^BRED][^ABRED]\n",
      "list_string BRED [^BRED]\n",
      "['B', 'R', 'E', 'D'] <class 'list'> ['B', 'R', 'E', 'D'] [^BRED][^BRED][^BRED][^ABRED][^BRED]\n",
      "(?=[^BRED][^BRED][^BRED][^ABRED][^BRED])(?=.*A.*)\n",
      "['SATIN' 'FLASK' 'TAUNT' 'FLANK' 'SALVO' 'FAITH' 'AMITY' 'CAULK' 'LOAMY'\n",
      " 'COMMA' 'MAGIC' 'STALL' 'ALIGN' 'PLAZA' 'SLASH' 'CAPUT' 'ALOOF' 'MAXIM'\n",
      " 'CLACK' 'TANGO' 'CHANT' 'CLANK' 'LOATH' 'FLASH' 'QUAIL' 'SCALP' 'SALON'\n",
      " 'AWAIT' 'SLAIN' 'FLACK' 'NASTY' 'PASTA' 'PALSY' 'ALOFT' 'HASTY' 'FANCY'\n",
      " 'CHAFF' 'TONGA' 'GAWKY' 'AXION' 'SASSY' 'AMONG' 'PANIC' 'LAUGH' 'MOCHA'\n",
      " 'SMACK' 'GAMMA' 'NANNY' 'PLANT' 'ALPHA' 'SHACK' 'SWASH' 'GAMUT' 'SPANK'\n",
      " 'GIANT' 'CLAIM' 'PIZZA' 'GAUNT' 'SALTY' 'ANVIL' 'KAPPA' 'GUAVA' 'PATSY'\n",
      " 'NINJA' 'QUOTA' 'KOALA' 'ANNUL' 'MACHO' 'PASTY' 'SWATH' 'PSALM' 'SPAWN'\n",
      " 'SAUNA' 'HAVOC' 'CHAMP' 'KNACK' 'WACKY' 'SCALY' 'VOILA' 'MAMMY' 'SCANT'\n",
      " 'AWFUL' 'PATIO' 'AWASH' 'SHANK' 'MATCH' 'JAUNT' 'TAWNY' 'SNACK' 'CANON'\n",
      " 'FAINT' 'VAULT' 'SALSA' 'WAGON' 'PANSY' 'JUNTA' 'STANK' 'SAPPY' 'CLASS'\n",
      " 'AUNTY' 'STAIN' 'GAILY' 'FANNY' 'SOAPY' 'VAUNT' 'TACIT' 'SWAMP' 'TOAST'\n",
      " 'GNASH' 'TAFFY' 'AGLOW' 'CHALK' 'MAFIA' 'ASCOT' 'ALLOW' 'PAINT' 'AMPLY'\n",
      " 'COAST' 'SLANT' 'CACTI' 'SHAWL' 'CLANG' 'SHAFT' 'WAIST' 'GAYLY' 'CAVIL'\n",
      " 'CATCH' 'MANGA' 'GLASS' 'YACHT' 'STAMP' 'TANGY' 'PLAIT' 'CHASM' 'SLANG'\n",
      " 'AFOUL' 'SCAMP' 'CATTY' 'SPASM' 'QUALM' 'ATTIC' 'SAVOY' 'COCOA' 'TATTY'\n",
      " 'SAINT' 'TWANG' 'SLACK' 'HATCH' 'SWAMI' 'MANGO' 'SMASH' 'WALTZ' 'MAMMA'\n",
      " 'COACH' 'PIANO' 'AXIOM' 'CHINA' 'LASSO' 'VISTA' 'STASH' 'FAULT' 'SMALL'\n",
      " 'AFOOT' 'PLAIN' 'ALLOY' 'HAPPY' 'SHALT' 'WATCH' 'QUASI' 'ANGST' 'THANK'\n",
      " 'GASSY' 'CHAIN' 'SALLY' 'PATCH' 'MANLY' 'KHAKI' 'STALK' 'APPLY' 'PATTY'\n",
      " 'AMASS' 'WHACK' 'LATCH' 'FOAMY' 'PLANK' 'ANNOY' 'TACKY' 'LLAMA' 'MANGY'\n",
      " 'FLAIL' 'TAINT' 'QUASH' 'MASON' 'STAFF' 'CLAMP' 'JAZZY' 'CLASH' 'CLASP'\n",
      " 'AGAIN' 'AVAIL' 'ATOLL' 'APTLY' 'ALONG' 'TASTY' 'QUACK' 'SNAKY' 'MAGMA'\n",
      " 'SNAIL' 'FLAKY' 'SIGMA' 'ANTIC' 'APING' 'AGONY' 'MANIA' 'VIOLA' 'SAUCY'\n",
      " 'AGING' 'FATTY' 'POLKA' 'STACK' 'CHAOS' 'SHAKY' 'SAVVY' 'ALLOT' 'LANKY'\n",
      " 'AFFIX' 'VILLA' 'HAUNT' 'SHALL' 'AMISS' 'FAUNA' 'TALON' 'TALLY' 'MANIC'\n",
      " 'CANNY']\n",
      "235\n",
      "235\n"
     ]
    }
   ],
   "source": [
    "# This runs the script as default my_return_complex which is my_return_complex=False\n",
    "# this results in a vocabulary length as the result\n",
    "# the secret word is the first word in the vocabulary\n",
    "# this is intended to provide an opportunity to produce a matrix of vocabulary length when run in a loop\n",
    "# using the np_vocab_reduction = np.vectorize(feedback)\n",
    "# mylengtharray = np_vocab_reduction(np_word_list,secret = my_secret,printing=False)\n",
    "# these will result in a numpy array for each word in the vocabulary as the secret word\n",
    "# compared to all of the other words as guesses.  the result is the length of the vocabulary resulting\n",
    "# turn off the printing and this takes around 9 seconds to run on the ~2000 vocabulary words\n",
    "# \n",
    "my_secret = np_word_list[0]\n",
    "mylength = feedback('bread',secret = my_secret,np_word_list=np_word_list,printing=True)\n",
    "print(mylength)"
   ]
  },
  {
   "cell_type": "markdown",
   "id": "c6eadda6",
   "metadata": {},
   "source": [
    "# This runs the script as default my_return_complex which is my_return_complex=True"
   ]
  },
  {
   "cell_type": "code",
   "execution_count": 248,
   "id": "109f99ca",
   "metadata": {},
   "outputs": [
    {
     "name": "stdout",
     "output_type": "stream",
     "text": [
      "SATIN\n",
      "Top of the feedback function\n",
      " secret SATIN guess BREAD []\n",
      "maskedword SATIN\n",
      "green result 00000\n",
      "yellow_result 00010\n",
      "B\n",
      "0 S B 0 0 ['B'] [0]\n",
      "R\n",
      "1 A R 0 0 ['B', 'R'] [0, 1]\n",
      "E\n",
      "2 T E 0 0 ['B', 'R', 'E'] [0, 1, 2]\n",
      "3 I A 0 1 ['B', 'R', 'E'] [0, 1, 2, 3]\n",
      "D\n",
      "4 N D 0 0 ['B', 'R', 'E', 'D'] [0, 1, 2, 3, 4]\n",
      "grey_list ['B', 'R', 'E', 'D']\n",
      "not_green_list [0, 1, 2, 3, 4]\n",
      "myregexstring [['B', 'R', 'E', 'D'], ['B', 'R', 'E', 'D'], ['B', 'R', 'E', 'D'], ['A', 'B', 'R', 'E', 'D'], ['B', 'R', 'E', 'D']]\n",
      "myisinstring (?=.*A.*)\n",
      "list_string BRED [^BRED]\n",
      "['B', 'R', 'E', 'D'] <class 'list'> ['B', 'R', 'E', 'D'] [^BRED]\n",
      "list_string BRED [^BRED]\n",
      "['B', 'R', 'E', 'D'] <class 'list'> ['B', 'R', 'E', 'D'] [^BRED][^BRED]\n",
      "list_string BRED [^BRED]\n",
      "['B', 'R', 'E', 'D'] <class 'list'> ['B', 'R', 'E', 'D'] [^BRED][^BRED][^BRED]\n",
      "list_string ABRED [^ABRED]\n",
      "['A', 'B', 'R', 'E', 'D'] <class 'list'> ['A', 'B', 'R', 'E', 'D'] [^BRED][^BRED][^BRED][^ABRED]\n",
      "list_string BRED [^BRED]\n",
      "['B', 'R', 'E', 'D'] <class 'list'> ['B', 'R', 'E', 'D'] [^BRED][^BRED][^BRED][^ABRED][^BRED]\n",
      "(?=[^BRED][^BRED][^BRED][^ABRED][^BRED])(?=.*A.*)\n",
      "['SATIN' 'FLASK' 'TAUNT' 'FLANK' 'SALVO' 'FAITH' 'AMITY' 'CAULK' 'LOAMY'\n",
      " 'COMMA' 'MAGIC' 'STALL' 'ALIGN' 'PLAZA' 'SLASH' 'CAPUT' 'ALOOF' 'MAXIM'\n",
      " 'CLACK' 'TANGO' 'CHANT' 'CLANK' 'LOATH' 'FLASH' 'QUAIL' 'SCALP' 'SALON'\n",
      " 'AWAIT' 'SLAIN' 'FLACK' 'NASTY' 'PASTA' 'PALSY' 'ALOFT' 'HASTY' 'FANCY'\n",
      " 'CHAFF' 'TONGA' 'GAWKY' 'AXION' 'SASSY' 'AMONG' 'PANIC' 'LAUGH' 'MOCHA'\n",
      " 'SMACK' 'GAMMA' 'NANNY' 'PLANT' 'ALPHA' 'SHACK' 'SWASH' 'GAMUT' 'SPANK'\n",
      " 'GIANT' 'CLAIM' 'PIZZA' 'GAUNT' 'SALTY' 'ANVIL' 'KAPPA' 'GUAVA' 'PATSY'\n",
      " 'NINJA' 'QUOTA' 'KOALA' 'ANNUL' 'MACHO' 'PASTY' 'SWATH' 'PSALM' 'SPAWN'\n",
      " 'SAUNA' 'HAVOC' 'CHAMP' 'KNACK' 'WACKY' 'SCALY' 'VOILA' 'MAMMY' 'SCANT'\n",
      " 'AWFUL' 'PATIO' 'AWASH' 'SHANK' 'MATCH' 'JAUNT' 'TAWNY' 'SNACK' 'CANON'\n",
      " 'FAINT' 'VAULT' 'SALSA' 'WAGON' 'PANSY' 'JUNTA' 'STANK' 'SAPPY' 'CLASS'\n",
      " 'AUNTY' 'STAIN' 'GAILY' 'FANNY' 'SOAPY' 'VAUNT' 'TACIT' 'SWAMP' 'TOAST'\n",
      " 'GNASH' 'TAFFY' 'AGLOW' 'CHALK' 'MAFIA' 'ASCOT' 'ALLOW' 'PAINT' 'AMPLY'\n",
      " 'COAST' 'SLANT' 'CACTI' 'SHAWL' 'CLANG' 'SHAFT' 'WAIST' 'GAYLY' 'CAVIL'\n",
      " 'CATCH' 'MANGA' 'GLASS' 'YACHT' 'STAMP' 'TANGY' 'PLAIT' 'CHASM' 'SLANG'\n",
      " 'AFOUL' 'SCAMP' 'CATTY' 'SPASM' 'QUALM' 'ATTIC' 'SAVOY' 'COCOA' 'TATTY'\n",
      " 'SAINT' 'TWANG' 'SLACK' 'HATCH' 'SWAMI' 'MANGO' 'SMASH' 'WALTZ' 'MAMMA'\n",
      " 'COACH' 'PIANO' 'AXIOM' 'CHINA' 'LASSO' 'VISTA' 'STASH' 'FAULT' 'SMALL'\n",
      " 'AFOOT' 'PLAIN' 'ALLOY' 'HAPPY' 'SHALT' 'WATCH' 'QUASI' 'ANGST' 'THANK'\n",
      " 'GASSY' 'CHAIN' 'SALLY' 'PATCH' 'MANLY' 'KHAKI' 'STALK' 'APPLY' 'PATTY'\n",
      " 'AMASS' 'WHACK' 'LATCH' 'FOAMY' 'PLANK' 'ANNOY' 'TACKY' 'LLAMA' 'MANGY'\n",
      " 'FLAIL' 'TAINT' 'QUASH' 'MASON' 'STAFF' 'CLAMP' 'JAZZY' 'CLASH' 'CLASP'\n",
      " 'AGAIN' 'AVAIL' 'ATOLL' 'APTLY' 'ALONG' 'TASTY' 'QUACK' 'SNAKY' 'MAGMA'\n",
      " 'SNAIL' 'FLAKY' 'SIGMA' 'ANTIC' 'APING' 'AGONY' 'MANIA' 'VIOLA' 'SAUCY'\n",
      " 'AGING' 'FATTY' 'POLKA' 'STACK' 'CHAOS' 'SHAKY' 'SAVVY' 'ALLOT' 'LANKY'\n",
      " 'AFFIX' 'VILLA' 'HAUNT' 'SHALL' 'AMISS' 'FAUNA' 'TALON' 'TALLY' 'MANIC'\n",
      " 'CANNY']\n",
      "235\n"
     ]
    }
   ],
   "source": [
    "# This runs the script as default my_return_complex which is my_return_complex=True\n",
    "# this results in the results being returned as a named tuple\n",
    "# print(my_results.myregexresult)\n",
    "# ['SATIN' 'FLASK' 'TAUNT' 'FLANK' 'SALVO' 'FAITH' 'AMITY' 'CAULK' 'LOAMY'\n",
    "# ...\n",
    "# 'CANNY']\n",
    "#\n",
    "print(my_secret)\n",
    "my_results = feedback('bread',secret = my_secret,np_word_list=np_word_list,printing=True,my_return_complex=True)"
   ]
  },
  {
   "cell_type": "code",
   "execution_count": 533,
   "id": "70fcaf93",
   "metadata": {},
   "outputs": [
    {
     "data": {
      "text/plain": [
       "'00000'"
      ]
     },
     "execution_count": 533,
     "metadata": {},
     "output_type": "execute_result"
    }
   ],
   "source": [
    "my_results.green_result"
   ]
  },
  {
   "cell_type": "code",
   "execution_count": 534,
   "id": "22a461fc",
   "metadata": {},
   "outputs": [
    {
     "data": {
      "text/plain": [
       "['B', 'R', 'E', 'D']"
      ]
     },
     "execution_count": 534,
     "metadata": {},
     "output_type": "execute_result"
    }
   ],
   "source": [
    "my_results.grey_list"
   ]
  },
  {
   "cell_type": "code",
   "execution_count": 537,
   "id": "d18d9ddc",
   "metadata": {},
   "outputs": [
    {
     "data": {
      "text/plain": [
       "235"
      ]
     },
     "execution_count": 537,
     "metadata": {},
     "output_type": "execute_result"
    }
   ],
   "source": [
    "my_results.mylength"
   ]
  },
  {
   "cell_type": "code",
   "execution_count": 538,
   "id": "1a16182e",
   "metadata": {},
   "outputs": [
    {
     "data": {
      "text/plain": [
       "array(['SATIN', 'FLASK', 'TAUNT', 'FLANK', 'SALVO', 'FAITH', 'AMITY',\n",
       "       'CAULK', 'LOAMY', 'COMMA', 'MAGIC', 'STALL', 'ALIGN', 'PLAZA',\n",
       "       'SLASH', 'CAPUT', 'ALOOF', 'MAXIM', 'CLACK', 'TANGO', 'CHANT',\n",
       "       'CLANK', 'LOATH', 'FLASH', 'QUAIL', 'SCALP', 'SALON', 'AWAIT',\n",
       "       'SLAIN', 'FLACK', 'NASTY', 'PASTA', 'PALSY', 'ALOFT', 'HASTY',\n",
       "       'FANCY', 'CHAFF', 'TONGA', 'GAWKY', 'AXION', 'SASSY', 'AMONG',\n",
       "       'PANIC', 'LAUGH', 'MOCHA', 'SMACK', 'GAMMA', 'NANNY', 'PLANT',\n",
       "       'ALPHA', 'SHACK', 'SWASH', 'GAMUT', 'SPANK', 'GIANT', 'CLAIM',\n",
       "       'PIZZA', 'GAUNT', 'SALTY', 'ANVIL', 'KAPPA', 'GUAVA', 'PATSY',\n",
       "       'NINJA', 'QUOTA', 'KOALA', 'ANNUL', 'MACHO', 'PASTY', 'SWATH',\n",
       "       'PSALM', 'SPAWN', 'SAUNA', 'HAVOC', 'CHAMP', 'KNACK', 'WACKY',\n",
       "       'SCALY', 'VOILA', 'MAMMY', 'SCANT', 'AWFUL', 'PATIO', 'AWASH',\n",
       "       'SHANK', 'MATCH', 'JAUNT', 'TAWNY', 'SNACK', 'CANON', 'FAINT',\n",
       "       'VAULT', 'SALSA', 'WAGON', 'PANSY', 'JUNTA', 'STANK', 'SAPPY',\n",
       "       'CLASS', 'AUNTY', 'STAIN', 'GAILY', 'FANNY', 'SOAPY', 'VAUNT',\n",
       "       'TACIT', 'SWAMP', 'TOAST', 'GNASH', 'TAFFY', 'AGLOW', 'CHALK',\n",
       "       'MAFIA', 'ASCOT', 'ALLOW', 'PAINT', 'AMPLY', 'COAST', 'SLANT',\n",
       "       'CACTI', 'SHAWL', 'CLANG', 'SHAFT', 'WAIST', 'GAYLY', 'CAVIL',\n",
       "       'CATCH', 'MANGA', 'GLASS', 'YACHT', 'STAMP', 'TANGY', 'PLAIT',\n",
       "       'CHASM', 'SLANG', 'AFOUL', 'SCAMP', 'CATTY', 'SPASM', 'QUALM',\n",
       "       'ATTIC', 'SAVOY', 'COCOA', 'TATTY', 'SAINT', 'TWANG', 'SLACK',\n",
       "       'HATCH', 'SWAMI', 'MANGO', 'SMASH', 'WALTZ', 'MAMMA', 'COACH',\n",
       "       'PIANO', 'AXIOM', 'CHINA', 'LASSO', 'VISTA', 'STASH', 'FAULT',\n",
       "       'SMALL', 'AFOOT', 'PLAIN', 'ALLOY', 'HAPPY', 'SHALT', 'WATCH',\n",
       "       'QUASI', 'ANGST', 'THANK', 'GASSY', 'CHAIN', 'SALLY', 'PATCH',\n",
       "       'MANLY', 'KHAKI', 'STALK', 'APPLY', 'PATTY', 'AMASS', 'WHACK',\n",
       "       'LATCH', 'FOAMY', 'PLANK', 'ANNOY', 'TACKY', 'LLAMA', 'MANGY',\n",
       "       'FLAIL', 'TAINT', 'QUASH', 'MASON', 'STAFF', 'CLAMP', 'JAZZY',\n",
       "       'CLASH', 'CLASP', 'AGAIN', 'AVAIL', 'ATOLL', 'APTLY', 'ALONG',\n",
       "       'TASTY', 'QUACK', 'SNAKY', 'MAGMA', 'SNAIL', 'FLAKY', 'SIGMA',\n",
       "       'ANTIC', 'APING', 'AGONY', 'MANIA', 'VIOLA', 'SAUCY', 'AGING',\n",
       "       'FATTY', 'POLKA', 'STACK', 'CHAOS', 'SHAKY', 'SAVVY', 'ALLOT',\n",
       "       'LANKY', 'AFFIX', 'VILLA', 'HAUNT', 'SHALL', 'AMISS', 'FAUNA',\n",
       "       'TALON', 'TALLY', 'MANIC', 'CANNY'], dtype='<U5')"
      ]
     },
     "execution_count": 538,
     "metadata": {},
     "output_type": "execute_result"
    }
   ],
   "source": [
    "my_results.myregexresult"
   ]
  },
  {
   "cell_type": "code",
   "execution_count": 539,
   "id": "b0f1aafb",
   "metadata": {},
   "outputs": [
    {
     "data": {
      "text/plain": [
       "[0, 1, 2, 3, 4]"
      ]
     },
     "execution_count": 539,
     "metadata": {},
     "output_type": "execute_result"
    }
   ],
   "source": [
    "my_results.not_green_list"
   ]
  },
  {
   "cell_type": "code",
   "execution_count": 540,
   "id": "4ffc0afe",
   "metadata": {},
   "outputs": [
    {
     "data": {
      "text/plain": [
       "'(?=[^BRED][^BRED][^BRED][^ABRED][^BRED])(?=.*A.*)'"
      ]
     },
     "execution_count": 540,
     "metadata": {},
     "output_type": "execute_result"
    }
   ],
   "source": [
    "my_results.regexstring_out"
   ]
  },
  {
   "cell_type": "code",
   "execution_count": 541,
   "id": "cb55f78e",
   "metadata": {},
   "outputs": [
    {
     "data": {
      "text/plain": [
       "'00010'"
      ]
     },
     "execution_count": 541,
     "metadata": {},
     "output_type": "execute_result"
    }
   ],
   "source": [
    "my_results.yellow_result"
   ]
  },
  {
   "cell_type": "code",
   "execution_count": null,
   "id": "6fdaeace",
   "metadata": {},
   "outputs": [],
   "source": []
  },
  {
   "cell_type": "code",
   "execution_count": 425,
   "id": "05d8fc93",
   "metadata": {},
   "outputs": [
    {
     "name": "stdout",
     "output_type": "stream",
     "text": [
      "['SATIN' 'FLASK' 'TAUNT' 'FLANK' 'SALVO' 'FAITH' 'AMITY' 'CAULK' 'LOAMY'\n",
      " 'COMMA' 'MAGIC' 'STALL' 'ALIGN' 'PLAZA' 'SLASH' 'CAPUT' 'ALOOF' 'MAXIM'\n",
      " 'CLACK' 'TANGO' 'CHANT' 'CLANK' 'LOATH' 'FLASH' 'QUAIL' 'SCALP' 'SALON'\n",
      " 'AWAIT' 'SLAIN' 'FLACK' 'NASTY' 'PASTA' 'PALSY' 'ALOFT' 'HASTY' 'FANCY'\n",
      " 'CHAFF' 'TONGA' 'GAWKY' 'AXION' 'SASSY' 'AMONG' 'PANIC' 'LAUGH' 'MOCHA'\n",
      " 'SMACK' 'GAMMA' 'NANNY' 'PLANT' 'ALPHA' 'SHACK' 'SWASH' 'GAMUT' 'SPANK'\n",
      " 'GIANT' 'CLAIM' 'PIZZA' 'GAUNT' 'SALTY' 'ANVIL' 'KAPPA' 'GUAVA' 'PATSY'\n",
      " 'NINJA' 'QUOTA' 'KOALA' 'ANNUL' 'MACHO' 'PASTY' 'SWATH' 'PSALM' 'SPAWN'\n",
      " 'SAUNA' 'HAVOC' 'CHAMP' 'KNACK' 'WACKY' 'SCALY' 'VOILA' 'MAMMY' 'SCANT'\n",
      " 'AWFUL' 'PATIO' 'AWASH' 'SHANK' 'MATCH' 'JAUNT' 'TAWNY' 'SNACK' 'CANON'\n",
      " 'FAINT' 'VAULT' 'SALSA' 'WAGON' 'PANSY' 'JUNTA' 'STANK' 'SAPPY' 'CLASS'\n",
      " 'AUNTY' 'STAIN' 'GAILY' 'FANNY' 'SOAPY' 'VAUNT' 'TACIT' 'SWAMP' 'TOAST'\n",
      " 'GNASH' 'TAFFY' 'AGLOW' 'CHALK' 'MAFIA' 'ASCOT' 'ALLOW' 'PAINT' 'AMPLY'\n",
      " 'COAST' 'SLANT' 'CACTI' 'SHAWL' 'CLANG' 'SHAFT' 'WAIST' 'GAYLY' 'CAVIL'\n",
      " 'CATCH' 'MANGA' 'GLASS' 'YACHT' 'STAMP' 'TANGY' 'PLAIT' 'CHASM' 'SLANG'\n",
      " 'AFOUL' 'SCAMP' 'CATTY' 'SPASM' 'QUALM' 'ATTIC' 'SAVOY' 'COCOA' 'TATTY'\n",
      " 'SAINT' 'TWANG' 'SLACK' 'HATCH' 'SWAMI' 'MANGO' 'SMASH' 'WALTZ' 'MAMMA'\n",
      " 'COACH' 'PIANO' 'AXIOM' 'CHINA' 'LASSO' 'VISTA' 'STASH' 'FAULT' 'SMALL'\n",
      " 'AFOOT' 'PLAIN' 'ALLOY' 'HAPPY' 'SHALT' 'WATCH' 'QUASI' 'ANGST' 'THANK'\n",
      " 'GASSY' 'CHAIN' 'SALLY' 'PATCH' 'MANLY' 'KHAKI' 'STALK' 'APPLY' 'PATTY'\n",
      " 'AMASS' 'WHACK' 'LATCH' 'FOAMY' 'PLANK' 'ANNOY' 'TACKY' 'LLAMA' 'MANGY'\n",
      " 'FLAIL' 'TAINT' 'QUASH' 'MASON' 'STAFF' 'CLAMP' 'JAZZY' 'CLASH' 'CLASP'\n",
      " 'AGAIN' 'AVAIL' 'ATOLL' 'APTLY' 'ALONG' 'TASTY' 'QUACK' 'SNAKY' 'MAGMA'\n",
      " 'SNAIL' 'FLAKY' 'SIGMA' 'ANTIC' 'APING' 'AGONY' 'MANIA' 'VIOLA' 'SAUCY'\n",
      " 'AGING' 'FATTY' 'POLKA' 'STACK' 'CHAOS' 'SHAKY' 'SAVVY' 'ALLOT' 'LANKY'\n",
      " 'AFFIX' 'VILLA' 'HAUNT' 'SHALL' 'AMISS' 'FAUNA' 'TALON' 'TALLY' 'MANIC'\n",
      " 'CANNY']\n"
     ]
    }
   ],
   "source": [
    "print(my_results.myregexresult)"
   ]
  },
  {
   "cell_type": "code",
   "execution_count": 528,
   "id": "430e35f9",
   "metadata": {},
   "outputs": [
    {
     "data": {
      "text/plain": [
       "array(['SATIN', 'FLASK', 'TAUNT', 'FLANK', 'SALVO', 'FAITH', 'AMITY',\n",
       "       'CAULK', 'LOAMY', 'COMMA', 'MAGIC', 'STALL', 'ALIGN', 'PLAZA',\n",
       "       'SLASH', 'CAPUT', 'ALOOF', 'MAXIM', 'CLACK', 'TANGO', 'CHANT',\n",
       "       'CLANK', 'LOATH', 'FLASH', 'QUAIL', 'SCALP', 'SALON', 'AWAIT',\n",
       "       'SLAIN', 'FLACK', 'NASTY', 'PASTA', 'PALSY', 'ALOFT', 'HASTY',\n",
       "       'FANCY', 'CHAFF', 'TONGA', 'GAWKY', 'AXION', 'SASSY', 'AMONG',\n",
       "       'PANIC', 'LAUGH', 'MOCHA', 'SMACK', 'GAMMA', 'NANNY', 'PLANT',\n",
       "       'ALPHA', 'SHACK', 'SWASH', 'GAMUT', 'SPANK', 'GIANT', 'CLAIM',\n",
       "       'PIZZA', 'GAUNT', 'SALTY', 'ANVIL', 'KAPPA', 'GUAVA', 'PATSY',\n",
       "       'NINJA', 'QUOTA', 'KOALA', 'ANNUL', 'MACHO', 'PASTY', 'SWATH',\n",
       "       'PSALM', 'SPAWN', 'SAUNA', 'HAVOC', 'CHAMP', 'KNACK', 'WACKY',\n",
       "       'SCALY', 'VOILA', 'MAMMY', 'SCANT', 'AWFUL', 'PATIO', 'AWASH',\n",
       "       'SHANK', 'MATCH', 'JAUNT', 'TAWNY', 'SNACK', 'CANON', 'FAINT',\n",
       "       'VAULT', 'SALSA', 'WAGON', 'PANSY', 'JUNTA', 'STANK', 'SAPPY',\n",
       "       'CLASS', 'AUNTY', 'STAIN', 'GAILY', 'FANNY', 'SOAPY', 'VAUNT',\n",
       "       'TACIT', 'SWAMP', 'TOAST', 'GNASH', 'TAFFY', 'AGLOW', 'CHALK',\n",
       "       'MAFIA', 'ASCOT', 'ALLOW', 'PAINT', 'AMPLY', 'COAST', 'SLANT',\n",
       "       'CACTI', 'SHAWL', 'CLANG', 'SHAFT', 'WAIST', 'GAYLY', 'CAVIL',\n",
       "       'CATCH', 'MANGA', 'GLASS', 'YACHT', 'STAMP', 'TANGY', 'PLAIT',\n",
       "       'CHASM', 'SLANG', 'AFOUL', 'SCAMP', 'CATTY', 'SPASM', 'QUALM',\n",
       "       'ATTIC', 'SAVOY', 'COCOA', 'TATTY', 'SAINT', 'TWANG', 'SLACK',\n",
       "       'HATCH', 'SWAMI', 'MANGO', 'SMASH', 'WALTZ', 'MAMMA', 'COACH',\n",
       "       'PIANO', 'AXIOM', 'CHINA', 'LASSO', 'VISTA', 'STASH', 'FAULT',\n",
       "       'SMALL', 'AFOOT', 'PLAIN', 'ALLOY', 'HAPPY', 'SHALT', 'WATCH',\n",
       "       'QUASI', 'ANGST', 'THANK', 'GASSY', 'CHAIN', 'SALLY', 'PATCH',\n",
       "       'MANLY', 'KHAKI', 'STALK', 'APPLY', 'PATTY', 'AMASS', 'WHACK',\n",
       "       'LATCH', 'FOAMY', 'PLANK', 'ANNOY', 'TACKY', 'LLAMA', 'MANGY',\n",
       "       'FLAIL', 'TAINT', 'QUASH', 'MASON', 'STAFF', 'CLAMP', 'JAZZY',\n",
       "       'CLASH', 'CLASP', 'AGAIN', 'AVAIL', 'ATOLL', 'APTLY', 'ALONG',\n",
       "       'TASTY', 'QUACK', 'SNAKY', 'MAGMA', 'SNAIL', 'FLAKY', 'SIGMA',\n",
       "       'ANTIC', 'APING', 'AGONY', 'MANIA', 'VIOLA', 'SAUCY', 'AGING',\n",
       "       'FATTY', 'POLKA', 'STACK', 'CHAOS', 'SHAKY', 'SAVVY', 'ALLOT',\n",
       "       'LANKY', 'AFFIX', 'VILLA', 'HAUNT', 'SHALL', 'AMISS', 'FAUNA',\n",
       "       'TALON', 'TALLY', 'MANIC', 'CANNY'], dtype='<U5')"
      ]
     },
     "execution_count": 528,
     "metadata": {},
     "output_type": "execute_result"
    }
   ],
   "source": [
    "my_results.myregexresult"
   ]
  },
  {
   "cell_type": "code",
   "execution_count": 134,
   "id": "de6c112f",
   "metadata": {},
   "outputs": [
    {
     "name": "stdout",
     "output_type": "stream",
     "text": [
      "TSINE\n"
     ]
    }
   ],
   "source": [
    "print(secret)"
   ]
  },
  {
   "cell_type": "code",
   "execution_count": 529,
   "id": "3c7478e8",
   "metadata": {},
   "outputs": [
    {
     "name": "stdout",
     "output_type": "stream",
     "text": [
      "235\n"
     ]
    }
   ],
   "source": [
    "print(my_results.mylength)"
   ]
  },
  {
   "cell_type": "markdown",
   "id": "443c3d86",
   "metadata": {},
   "source": [
    "# This explores the np.vectorize function that the feedback script has been modified to support"
   ]
  },
  {
   "cell_type": "code",
   "execution_count": 241,
   "id": "e5b3e58a",
   "metadata": {},
   "outputs": [],
   "source": [
    "np_vocab_reduction = np.vectorize(feedback)"
   ]
  },
  {
   "cell_type": "code",
   "execution_count": 530,
   "id": "93cc7b32",
   "metadata": {},
   "outputs": [
    {
     "name": "stdout",
     "output_type": "stream",
     "text": [
      "SATIN\n",
      "8.509259462356567 seconds\n"
     ]
    }
   ],
   "source": [
    "my_secret = np_word_list[0]\n",
    "print(my_secret)\n",
    "timestart = time.time()\n",
    "mylengtharray = np_vocab_reduction(np_word_list,secret = my_secret,printing=False)\n",
    "timeend = time.time()\n",
    "total_time = timeend - timestart\n",
    "print(total_time,\"seconds\")"
   ]
  },
  {
   "cell_type": "code",
   "execution_count": 196,
   "id": "32815b08",
   "metadata": {},
   "outputs": [
    {
     "name": "stdout",
     "output_type": "stream",
     "text": [
      "0.1462755759557088 Minutes\n"
     ]
    }
   ],
   "source": [
    "print(total_time/60,\"Minutes\")"
   ]
  },
  {
   "cell_type": "code",
   "execution_count": 531,
   "id": "3688b4c8",
   "metadata": {},
   "outputs": [
    {
     "data": {
      "text/plain": [
       "2315"
      ]
     },
     "execution_count": 531,
     "metadata": {},
     "output_type": "execute_result"
    }
   ],
   "source": [
    "len(mylengtharray)"
   ]
  },
  {
   "cell_type": "code",
   "execution_count": 532,
   "id": "b84a9109",
   "metadata": {},
   "outputs": [
    {
     "data": {
      "text/plain": [
       "array([  1, 524,  59,   5, 172,  53, 207,  36, 284,  78, 357,  26,  12,\n",
       "         5, 459, 970,  76,  19, 208, 159, 237,   4, 169,  98, 103, 290,\n",
       "        53,  21, 212, 238,  68,  16, 126, 129, 172, 218, 145,  11, 228,\n",
       "         2,  84, 302, 116,  15,  13,  19, 146, 285,  24,  19])"
      ]
     },
     "execution_count": 532,
     "metadata": {},
     "output_type": "execute_result"
    }
   ],
   "source": [
    "mylengtharray[0:50]"
   ]
  },
  {
   "cell_type": "code",
   "execution_count": 245,
   "id": "ea8aba97",
   "metadata": {},
   "outputs": [
    {
     "data": {
      "text/plain": [
       "array(['SATIN', 'STERN', 'SALON', 'SLAIN', 'STRIP', 'STAIR', 'STEIN',\n",
       "       'PATSY', 'STINT', 'BASIC', 'SCANT', 'PATIO', 'STONE', 'FAINT',\n",
       "       'TRAIN', 'STANK', 'STAIN', 'SATYR', 'PAINT', 'SLANT', 'STAND',\n",
       "       'WAIST', 'STING', 'STONY', 'UNTIE', 'BASIS', 'STUNT', 'BASIL',\n",
       "       'BASIN', 'SAINT', 'STINK', 'STAID', 'UNTIL', 'TAINT', 'MASON',\n",
       "       'RATIO', 'ARTSY', 'TITAN', 'SNAIL', 'ANTIC', 'CABIN'], dtype='<U5')"
      ]
     },
     "execution_count": 245,
     "metadata": {},
     "output_type": "execute_result"
    }
   ],
   "source": [
    "np_word_list[mylengtharray == 1]"
   ]
  },
  {
   "cell_type": "markdown",
   "id": "9433ce3a",
   "metadata": {},
   "source": [
    "# This shows that the default function of feedback returns a simple length"
   ]
  },
  {
   "cell_type": "code",
   "execution_count": 252,
   "id": "8c489ed3",
   "metadata": {},
   "outputs": [
    {
     "data": {
      "text/plain": [
       "316"
      ]
     },
     "execution_count": 252,
     "metadata": {},
     "output_type": "execute_result"
    }
   ],
   "source": [
    "feedback('GOYLE')"
   ]
  },
  {
   "cell_type": "code",
   "execution_count": 256,
   "id": "99d65098",
   "metadata": {},
   "outputs": [
    {
     "name": "stdout",
     "output_type": "stream",
     "text": [
      "alphabet ABCDEFGHIJKLMNOPQRSTUVWXYZ\n",
      "listabc ['A', 'B', 'C', 'D', 'E', 'F', 'G', 'H', 'I', 'J', 'K', 'L', 'M', 'N', 'O', 'P', 'Q', 'R', 'S', 'T', 'U', 'V', 'W', 'X', 'Y', 'Z']\n",
      "npabc ['A' 'B' 'C' 'D' 'E' 'F' 'G' 'H' 'I' 'J' 'K' 'L' 'M' 'N' 'O' 'P' 'Q' 'R'\n",
      " 'S' 'T' 'U' 'V' 'W' 'X' 'Y' 'Z']\n"
     ]
    }
   ],
   "source": [
    "freq = defaultdict(dict)\n",
    "    \n",
    "alphabet = string.ascii_uppercase    \n",
    "listabc=[c for c in alphabet]\n",
    "npabc = np.array(listabc)\n",
    "print(\"alphabet\",alphabet)\n",
    "print(\"listabc\",listabc)\n",
    "print(\"npabc\",npabc)"
   ]
  },
  {
   "cell_type": "code",
   "execution_count": 262,
   "id": "5959e822",
   "metadata": {},
   "outputs": [
    {
     "data": {
      "text/plain": [
       "'A'"
      ]
     },
     "execution_count": 262,
     "metadata": {},
     "output_type": "execute_result"
    }
   ],
   "source": [
    "npabc[0]"
   ]
  },
  {
   "cell_type": "markdown",
   "id": "8efeaf46",
   "metadata": {},
   "source": [
    "# alphabet frequency of vocabulary"
   ]
  },
  {
   "cell_type": "code",
   "execution_count": 449,
   "id": "1911d150",
   "metadata": {},
   "outputs": [],
   "source": [
    "# This function takes in a word list of vocabulary and returns a dataframe \n",
    "# with the frequency of each letter in the vocabulary by position\n",
    "def alphabet_frequency(wordlist=np_word_list):\n",
    "    global npabc\n",
    "    global newdf\n",
    "    newdf = pd.DataFrame(0, index=npabc, columns=range(5))\n",
    "\n",
    "    for word in wordlist:\n",
    "        for pos in range(len(word)):\n",
    "            char = word[pos]\n",
    "            newdf.at[char,pos] += 1\n",
    "    return(newdf)"
   ]
  },
  {
   "cell_type": "code",
   "execution_count": 542,
   "id": "a96c3f38",
   "metadata": {},
   "outputs": [
    {
     "data": {
      "text/html": [
       "<div>\n",
       "<style scoped>\n",
       "    .dataframe tbody tr th:only-of-type {\n",
       "        vertical-align: middle;\n",
       "    }\n",
       "\n",
       "    .dataframe tbody tr th {\n",
       "        vertical-align: top;\n",
       "    }\n",
       "\n",
       "    .dataframe thead th {\n",
       "        text-align: right;\n",
       "    }\n",
       "</style>\n",
       "<table border=\"1\" class=\"dataframe\">\n",
       "  <thead>\n",
       "    <tr style=\"text-align: right;\">\n",
       "      <th></th>\n",
       "      <th>0</th>\n",
       "      <th>1</th>\n",
       "      <th>2</th>\n",
       "      <th>3</th>\n",
       "      <th>4</th>\n",
       "    </tr>\n",
       "  </thead>\n",
       "  <tbody>\n",
       "    <tr>\n",
       "      <th>A</th>\n",
       "      <td>141</td>\n",
       "      <td>304</td>\n",
       "      <td>307</td>\n",
       "      <td>163</td>\n",
       "      <td>64</td>\n",
       "    </tr>\n",
       "    <tr>\n",
       "      <th>B</th>\n",
       "      <td>173</td>\n",
       "      <td>16</td>\n",
       "      <td>57</td>\n",
       "      <td>24</td>\n",
       "      <td>11</td>\n",
       "    </tr>\n",
       "    <tr>\n",
       "      <th>C</th>\n",
       "      <td>198</td>\n",
       "      <td>40</td>\n",
       "      <td>56</td>\n",
       "      <td>152</td>\n",
       "      <td>31</td>\n",
       "    </tr>\n",
       "    <tr>\n",
       "      <th>D</th>\n",
       "      <td>111</td>\n",
       "      <td>20</td>\n",
       "      <td>75</td>\n",
       "      <td>69</td>\n",
       "      <td>118</td>\n",
       "    </tr>\n",
       "    <tr>\n",
       "      <th>E</th>\n",
       "      <td>72</td>\n",
       "      <td>242</td>\n",
       "      <td>177</td>\n",
       "      <td>318</td>\n",
       "      <td>424</td>\n",
       "    </tr>\n",
       "    <tr>\n",
       "      <th>F</th>\n",
       "      <td>136</td>\n",
       "      <td>8</td>\n",
       "      <td>25</td>\n",
       "      <td>35</td>\n",
       "      <td>26</td>\n",
       "    </tr>\n",
       "    <tr>\n",
       "      <th>G</th>\n",
       "      <td>115</td>\n",
       "      <td>12</td>\n",
       "      <td>67</td>\n",
       "      <td>76</td>\n",
       "      <td>41</td>\n",
       "    </tr>\n",
       "    <tr>\n",
       "      <th>H</th>\n",
       "      <td>69</td>\n",
       "      <td>144</td>\n",
       "      <td>9</td>\n",
       "      <td>28</td>\n",
       "      <td>139</td>\n",
       "    </tr>\n",
       "    <tr>\n",
       "      <th>I</th>\n",
       "      <td>34</td>\n",
       "      <td>202</td>\n",
       "      <td>266</td>\n",
       "      <td>158</td>\n",
       "      <td>11</td>\n",
       "    </tr>\n",
       "    <tr>\n",
       "      <th>J</th>\n",
       "      <td>20</td>\n",
       "      <td>2</td>\n",
       "      <td>3</td>\n",
       "      <td>2</td>\n",
       "      <td>0</td>\n",
       "    </tr>\n",
       "    <tr>\n",
       "      <th>K</th>\n",
       "      <td>20</td>\n",
       "      <td>10</td>\n",
       "      <td>12</td>\n",
       "      <td>55</td>\n",
       "      <td>113</td>\n",
       "    </tr>\n",
       "    <tr>\n",
       "      <th>L</th>\n",
       "      <td>88</td>\n",
       "      <td>201</td>\n",
       "      <td>112</td>\n",
       "      <td>162</td>\n",
       "      <td>156</td>\n",
       "    </tr>\n",
       "    <tr>\n",
       "      <th>M</th>\n",
       "      <td>107</td>\n",
       "      <td>38</td>\n",
       "      <td>61</td>\n",
       "      <td>68</td>\n",
       "      <td>42</td>\n",
       "    </tr>\n",
       "    <tr>\n",
       "      <th>N</th>\n",
       "      <td>37</td>\n",
       "      <td>87</td>\n",
       "      <td>139</td>\n",
       "      <td>182</td>\n",
       "      <td>130</td>\n",
       "    </tr>\n",
       "    <tr>\n",
       "      <th>O</th>\n",
       "      <td>41</td>\n",
       "      <td>279</td>\n",
       "      <td>244</td>\n",
       "      <td>132</td>\n",
       "      <td>58</td>\n",
       "    </tr>\n",
       "    <tr>\n",
       "      <th>P</th>\n",
       "      <td>142</td>\n",
       "      <td>61</td>\n",
       "      <td>58</td>\n",
       "      <td>50</td>\n",
       "      <td>56</td>\n",
       "    </tr>\n",
       "    <tr>\n",
       "      <th>Q</th>\n",
       "      <td>23</td>\n",
       "      <td>5</td>\n",
       "      <td>1</td>\n",
       "      <td>0</td>\n",
       "      <td>0</td>\n",
       "    </tr>\n",
       "    <tr>\n",
       "      <th>R</th>\n",
       "      <td>105</td>\n",
       "      <td>267</td>\n",
       "      <td>163</td>\n",
       "      <td>152</td>\n",
       "      <td>212</td>\n",
       "    </tr>\n",
       "    <tr>\n",
       "      <th>S</th>\n",
       "      <td>366</td>\n",
       "      <td>16</td>\n",
       "      <td>80</td>\n",
       "      <td>171</td>\n",
       "      <td>36</td>\n",
       "    </tr>\n",
       "    <tr>\n",
       "      <th>T</th>\n",
       "      <td>149</td>\n",
       "      <td>77</td>\n",
       "      <td>111</td>\n",
       "      <td>139</td>\n",
       "      <td>253</td>\n",
       "    </tr>\n",
       "    <tr>\n",
       "      <th>U</th>\n",
       "      <td>33</td>\n",
       "      <td>186</td>\n",
       "      <td>165</td>\n",
       "      <td>82</td>\n",
       "      <td>1</td>\n",
       "    </tr>\n",
       "    <tr>\n",
       "      <th>V</th>\n",
       "      <td>43</td>\n",
       "      <td>15</td>\n",
       "      <td>49</td>\n",
       "      <td>46</td>\n",
       "      <td>0</td>\n",
       "    </tr>\n",
       "    <tr>\n",
       "      <th>W</th>\n",
       "      <td>83</td>\n",
       "      <td>44</td>\n",
       "      <td>26</td>\n",
       "      <td>25</td>\n",
       "      <td>17</td>\n",
       "    </tr>\n",
       "    <tr>\n",
       "      <th>X</th>\n",
       "      <td>0</td>\n",
       "      <td>14</td>\n",
       "      <td>12</td>\n",
       "      <td>3</td>\n",
       "      <td>8</td>\n",
       "    </tr>\n",
       "    <tr>\n",
       "      <th>Y</th>\n",
       "      <td>6</td>\n",
       "      <td>23</td>\n",
       "      <td>29</td>\n",
       "      <td>3</td>\n",
       "      <td>364</td>\n",
       "    </tr>\n",
       "    <tr>\n",
       "      <th>Z</th>\n",
       "      <td>3</td>\n",
       "      <td>2</td>\n",
       "      <td>11</td>\n",
       "      <td>20</td>\n",
       "      <td>4</td>\n",
       "    </tr>\n",
       "  </tbody>\n",
       "</table>\n",
       "</div>"
      ],
      "text/plain": [
       "     0    1    2    3    4\n",
       "A  141  304  307  163   64\n",
       "B  173   16   57   24   11\n",
       "C  198   40   56  152   31\n",
       "D  111   20   75   69  118\n",
       "E   72  242  177  318  424\n",
       "F  136    8   25   35   26\n",
       "G  115   12   67   76   41\n",
       "H   69  144    9   28  139\n",
       "I   34  202  266  158   11\n",
       "J   20    2    3    2    0\n",
       "K   20   10   12   55  113\n",
       "L   88  201  112  162  156\n",
       "M  107   38   61   68   42\n",
       "N   37   87  139  182  130\n",
       "O   41  279  244  132   58\n",
       "P  142   61   58   50   56\n",
       "Q   23    5    1    0    0\n",
       "R  105  267  163  152  212\n",
       "S  366   16   80  171   36\n",
       "T  149   77  111  139  253\n",
       "U   33  186  165   82    1\n",
       "V   43   15   49   46    0\n",
       "W   83   44   26   25   17\n",
       "X    0   14   12    3    8\n",
       "Y    6   23   29    3  364\n",
       "Z    3    2   11   20    4"
      ]
     },
     "metadata": {},
     "output_type": "display_data"
    }
   ],
   "source": [
    "mydf = alphabet_frequency()\n",
    "display(mydf)"
   ]
  },
  {
   "cell_type": "code",
   "execution_count": 455,
   "id": "f89eef78",
   "metadata": {},
   "outputs": [
    {
     "data": {
      "text/plain": [
       "pandas.core.frame.DataFrame"
      ]
     },
     "execution_count": 455,
     "metadata": {},
     "output_type": "execute_result"
    }
   ],
   "source": [
    "type(mydf)"
   ]
  },
  {
   "cell_type": "code",
   "execution_count": 457,
   "id": "3f2e22bc",
   "metadata": {},
   "outputs": [
    {
     "data": {
      "text/html": [
       "<div>\n",
       "<style scoped>\n",
       "    .dataframe tbody tr th:only-of-type {\n",
       "        vertical-align: middle;\n",
       "    }\n",
       "\n",
       "    .dataframe tbody tr th {\n",
       "        vertical-align: top;\n",
       "    }\n",
       "\n",
       "    .dataframe thead th {\n",
       "        text-align: right;\n",
       "    }\n",
       "</style>\n",
       "<table border=\"1\" class=\"dataframe\">\n",
       "  <thead>\n",
       "    <tr style=\"text-align: right;\">\n",
       "      <th></th>\n",
       "      <th>0</th>\n",
       "      <th>1</th>\n",
       "      <th>2</th>\n",
       "      <th>3</th>\n",
       "      <th>4</th>\n",
       "    </tr>\n",
       "  </thead>\n",
       "  <tbody>\n",
       "    <tr>\n",
       "      <th>A</th>\n",
       "      <td>38</td>\n",
       "      <td>94</td>\n",
       "      <td>93</td>\n",
       "      <td>0</td>\n",
       "      <td>31</td>\n",
       "    </tr>\n",
       "    <tr>\n",
       "      <th>B</th>\n",
       "      <td>0</td>\n",
       "      <td>0</td>\n",
       "      <td>0</td>\n",
       "      <td>0</td>\n",
       "      <td>0</td>\n",
       "    </tr>\n",
       "    <tr>\n",
       "      <th>C</th>\n",
       "      <td>28</td>\n",
       "      <td>4</td>\n",
       "      <td>9</td>\n",
       "      <td>19</td>\n",
       "      <td>6</td>\n",
       "    </tr>\n",
       "    <tr>\n",
       "      <th>D</th>\n",
       "      <td>0</td>\n",
       "      <td>0</td>\n",
       "      <td>0</td>\n",
       "      <td>0</td>\n",
       "      <td>0</td>\n",
       "    </tr>\n",
       "    <tr>\n",
       "      <th>E</th>\n",
       "      <td>0</td>\n",
       "      <td>0</td>\n",
       "      <td>0</td>\n",
       "      <td>0</td>\n",
       "      <td>0</td>\n",
       "    </tr>\n",
       "    <tr>\n",
       "      <th>F</th>\n",
       "      <td>14</td>\n",
       "      <td>3</td>\n",
       "      <td>4</td>\n",
       "      <td>5</td>\n",
       "      <td>3</td>\n",
       "    </tr>\n",
       "    <tr>\n",
       "      <th>G</th>\n",
       "      <td>11</td>\n",
       "      <td>4</td>\n",
       "      <td>5</td>\n",
       "      <td>8</td>\n",
       "      <td>7</td>\n",
       "    </tr>\n",
       "    <tr>\n",
       "      <th>H</th>\n",
       "      <td>5</td>\n",
       "      <td>18</td>\n",
       "      <td>0</td>\n",
       "      <td>4</td>\n",
       "      <td>20</td>\n",
       "    </tr>\n",
       "    <tr>\n",
       "      <th>I</th>\n",
       "      <td>0</td>\n",
       "      <td>8</td>\n",
       "      <td>16</td>\n",
       "      <td>26</td>\n",
       "      <td>4</td>\n",
       "    </tr>\n",
       "    <tr>\n",
       "      <th>J</th>\n",
       "      <td>3</td>\n",
       "      <td>0</td>\n",
       "      <td>0</td>\n",
       "      <td>1</td>\n",
       "      <td>0</td>\n",
       "    </tr>\n",
       "    <tr>\n",
       "      <th>K</th>\n",
       "      <td>4</td>\n",
       "      <td>0</td>\n",
       "      <td>0</td>\n",
       "      <td>9</td>\n",
       "      <td>21</td>\n",
       "    </tr>\n",
       "    <tr>\n",
       "      <th>L</th>\n",
       "      <td>7</td>\n",
       "      <td>34</td>\n",
       "      <td>15</td>\n",
       "      <td>26</td>\n",
       "      <td>14</td>\n",
       "    </tr>\n",
       "    <tr>\n",
       "      <th>M</th>\n",
       "      <td>16</td>\n",
       "      <td>8</td>\n",
       "      <td>5</td>\n",
       "      <td>15</td>\n",
       "      <td>7</td>\n",
       "    </tr>\n",
       "    <tr>\n",
       "      <th>N</th>\n",
       "      <td>3</td>\n",
       "      <td>10</td>\n",
       "      <td>22</td>\n",
       "      <td>37</td>\n",
       "      <td>14</td>\n",
       "    </tr>\n",
       "    <tr>\n",
       "      <th>O</th>\n",
       "      <td>0</td>\n",
       "      <td>14</td>\n",
       "      <td>10</td>\n",
       "      <td>19</td>\n",
       "      <td>7</td>\n",
       "    </tr>\n",
       "    <tr>\n",
       "      <th>P</th>\n",
       "      <td>19</td>\n",
       "      <td>6</td>\n",
       "      <td>7</td>\n",
       "      <td>4</td>\n",
       "      <td>7</td>\n",
       "    </tr>\n",
       "    <tr>\n",
       "      <th>Q</th>\n",
       "      <td>6</td>\n",
       "      <td>0</td>\n",
       "      <td>0</td>\n",
       "      <td>0</td>\n",
       "      <td>0</td>\n",
       "    </tr>\n",
       "    <tr>\n",
       "      <th>R</th>\n",
       "      <td>0</td>\n",
       "      <td>0</td>\n",
       "      <td>0</td>\n",
       "      <td>0</td>\n",
       "      <td>0</td>\n",
       "    </tr>\n",
       "    <tr>\n",
       "      <th>S</th>\n",
       "      <td>52</td>\n",
       "      <td>2</td>\n",
       "      <td>10</td>\n",
       "      <td>29</td>\n",
       "      <td>5</td>\n",
       "    </tr>\n",
       "    <tr>\n",
       "      <th>T</th>\n",
       "      <td>16</td>\n",
       "      <td>10</td>\n",
       "      <td>16</td>\n",
       "      <td>20</td>\n",
       "      <td>32</td>\n",
       "    </tr>\n",
       "    <tr>\n",
       "      <th>U</th>\n",
       "      <td>0</td>\n",
       "      <td>9</td>\n",
       "      <td>12</td>\n",
       "      <td>5</td>\n",
       "      <td>0</td>\n",
       "    </tr>\n",
       "    <tr>\n",
       "      <th>V</th>\n",
       "      <td>6</td>\n",
       "      <td>1</td>\n",
       "      <td>5</td>\n",
       "      <td>3</td>\n",
       "      <td>0</td>\n",
       "    </tr>\n",
       "    <tr>\n",
       "      <th>W</th>\n",
       "      <td>6</td>\n",
       "      <td>8</td>\n",
       "      <td>2</td>\n",
       "      <td>2</td>\n",
       "      <td>2</td>\n",
       "    </tr>\n",
       "    <tr>\n",
       "      <th>X</th>\n",
       "      <td>0</td>\n",
       "      <td>2</td>\n",
       "      <td>1</td>\n",
       "      <td>0</td>\n",
       "      <td>1</td>\n",
       "    </tr>\n",
       "    <tr>\n",
       "      <th>Y</th>\n",
       "      <td>1</td>\n",
       "      <td>0</td>\n",
       "      <td>1</td>\n",
       "      <td>0</td>\n",
       "      <td>53</td>\n",
       "    </tr>\n",
       "    <tr>\n",
       "      <th>Z</th>\n",
       "      <td>0</td>\n",
       "      <td>0</td>\n",
       "      <td>2</td>\n",
       "      <td>3</td>\n",
       "      <td>1</td>\n",
       "    </tr>\n",
       "  </tbody>\n",
       "</table>\n",
       "</div>"
      ],
      "text/plain": [
       "    0   1   2   3   4\n",
       "A  38  94  93   0  31\n",
       "B   0   0   0   0   0\n",
       "C  28   4   9  19   6\n",
       "D   0   0   0   0   0\n",
       "E   0   0   0   0   0\n",
       "F  14   3   4   5   3\n",
       "G  11   4   5   8   7\n",
       "H   5  18   0   4  20\n",
       "I   0   8  16  26   4\n",
       "J   3   0   0   1   0\n",
       "K   4   0   0   9  21\n",
       "L   7  34  15  26  14\n",
       "M  16   8   5  15   7\n",
       "N   3  10  22  37  14\n",
       "O   0  14  10  19   7\n",
       "P  19   6   7   4   7\n",
       "Q   6   0   0   0   0\n",
       "R   0   0   0   0   0\n",
       "S  52   2  10  29   5\n",
       "T  16  10  16  20  32\n",
       "U   0   9  12   5   0\n",
       "V   6   1   5   3   0\n",
       "W   6   8   2   2   2\n",
       "X   0   2   1   0   1\n",
       "Y   1   0   1   0  53\n",
       "Z   0   0   2   3   1"
      ]
     },
     "metadata": {},
     "output_type": "display_data"
    }
   ],
   "source": [
    "# example of runing the function of the output results from the feedback .myregexresult reduced vocabulary list\n",
    "mydf = alphabet_frequency(my_results.myregexresult)\n",
    "display(mydf)\n"
   ]
  },
  {
   "cell_type": "markdown",
   "id": "d10d2427",
   "metadata": {},
   "source": [
    "# Information Value iv function"
   ]
  },
  {
   "cell_type": "code",
   "execution_count": 483,
   "id": "85774aa7",
   "metadata": {},
   "outputs": [],
   "source": [
    "# This function takes in a guess and evaluates the frequency value of each letter in the word \n",
    "# compared to the frequency of that letter in that position in the entire vocabulary, \n",
    "# returning the sum of the frequencies of the letters\n",
    "# this function requires a guess and an input dataframe of the frequencies of letters in the vocabulary\n",
    "def iv(guess,inputdf,printing=False):\n",
    "    if printing == True: print(guess)\n",
    "    if printing == True: print(inputdf)\n",
    "    ivsum = 0\n",
    "    for pos in range(len(guess)):\n",
    "        char = guess[pos]\n",
    "        val = inputdf.at[char,pos]\n",
    "        if printing == True: print(\"char\",char,\"val\",val)\n",
    "        ivsum += val\n",
    "    if printing == True: print(\"ivsumi\",ivsum)\n",
    "    return(ivsum)"
   ]
  },
  {
   "cell_type": "code",
   "execution_count": 513,
   "id": "bc7aa79d",
   "metadata": {},
   "outputs": [
    {
     "name": "stdout",
     "output_type": "stream",
     "text": [
      "APPLE\n",
      "     0    1    2    3    4\n",
      "A  141  304  307  163   64\n",
      "B  173   16   57   24   11\n",
      "C  198   40   56  152   31\n",
      "D  111   20   75   69  118\n",
      "E   72  242  177  318  424\n",
      "F  136    8   25   35   26\n",
      "G  115   12   67   76   41\n",
      "H   69  144    9   28  139\n",
      "I   34  202  266  158   11\n",
      "J   20    2    3    2    0\n",
      "K   20   10   12   55  113\n",
      "L   88  201  112  162  156\n",
      "M  107   38   61   68   42\n",
      "N   37   87  139  182  130\n",
      "O   41  279  244  132   58\n",
      "P  142   61   58   50   56\n",
      "Q   23    5    1    0    0\n",
      "R  105  267  163  152  212\n",
      "S  366   16   80  171   36\n",
      "T  149   77  111  139  253\n",
      "U   33  186  165   82    1\n",
      "V   43   15   49   46    0\n",
      "W   83   44   26   25   17\n",
      "X    0   14   12    3    8\n",
      "Y    6   23   29    3  364\n",
      "Z    3    2   11   20    4\n",
      "char A val 141\n",
      "char P val 61\n",
      "char P val 58\n",
      "char L val 162\n",
      "char E val 424\n",
      "ivsumi 846\n"
     ]
    },
    {
     "data": {
      "text/plain": [
       "846"
      ]
     },
     "execution_count": 513,
     "metadata": {},
     "output_type": "execute_result"
    }
   ],
   "source": [
    "# example of running the df against a guess on the whole vocabulary\n",
    "iv(\"APPLE\",mydf,printing=True)"
   ]
  },
  {
   "cell_type": "markdown",
   "id": "29402ded",
   "metadata": {},
   "source": [
    "# vocab_value "
   ]
  },
  {
   "cell_type": "code",
   "execution_count": 523,
   "id": "2d08bd9f",
   "metadata": {},
   "outputs": [],
   "source": [
    "# this function takes in a list of vocabulary words and a dataframe of letter frequencies\n",
    "# this function creates a myIV_value_array numoy array which is a value score for every word in the vocabulary list\n",
    "# the function then reads the words in the vocabulary list and looks the character and position up in the frequency df\n",
    "# these scores are added up and stopred in a numpy array as a value score for each word in the vocabulary\n",
    "# \n",
    "# this function returns results as a named tuple with four numpy arrays\n",
    "# \"myIV_value_array\",\"sorter\",\"sorted_myIV_value_array\",\"sorted_np_word_list\"\n",
    "#\n",
    "# myIV_value_array: an unsorted numpy array of the sum of frequency values of the words\n",
    "# \n",
    "# Sorter is a sorted list of indexes.  This is used to sort the numpy array in descending order highest value first\n",
    "#\n",
    "# sorted_myIV_value_array is a sorted array of the sum of frequency values of the words\n",
    "#\n",
    "# sorted_np_word_list is a sorted array of teh vocabulary words based on the sum of frequency values\n",
    "#\n",
    "# this is an example of how to run this function\n",
    "# myresults = vocab_value(np_word_list,mydf)\n",
    "# print(myresults.sorter)\n",
    "# print(myresults.sorted_myIV_value_array)\n",
    "# print(myresults.sorted_np_word_list)\n",
    "#\n",
    "#\n",
    "\n",
    "def vocab_value(np_word_list,inputdf=mydf,printing=False):\n",
    "    myIV_value_array = np.zeros(len(np_word_list))\n",
    "    if printing == True: print(\"myIV_value_array\",myIV_value_array)\n",
    "    for i in range(len(np_word_list)):\n",
    "        word = np_word_list[i]\n",
    "        val = iv(word,inputdf,printing=False)\n",
    "        myIV_value_array[i]=val\n",
    "    if printing == True: print(myIV_value_array)\n",
    "    if printing == True: print(myIV_value_array.max())\n",
    "    sorter = myIV_value_array.argsort()[::-1]\n",
    "    sorted_myIV_value_array = myIV_value_array[sorter]\n",
    "    sorted_np_word_list = np_word_list[sorter]\n",
    "#    return(sorted_myIV_value_array,sorted_np_word_list)\n",
    "\n",
    "    myresults = namedtuple(\"myresults\",[\"myIV_value_array\",\"sorter\",\"sorted_myIV_value_array\",\"sorted_np_word_list\"])\n",
    "    results = myresults(myIV_value_array,sorter,sorted_myIV_value_array,sorted_np_word_list)\n",
    "    return(results)\n"
   ]
  },
  {
   "cell_type": "code",
   "execution_count": 543,
   "id": "ef1e8178",
   "metadata": {},
   "outputs": [
    {
     "name": "stdout",
     "output_type": "stream",
     "text": [
      "[2152 1661 2197 ... 1918 1403 1756]\n",
      "[1437. 1411. 1409. ...  326.  318.  310.]\n",
      "['SLATE' 'SAUCE' 'SLICE' ... 'ETHOS' 'INBOX' 'NYMPH']\n"
     ]
    }
   ],
   "source": [
    "myresults = vocab_value(np_word_list,mydf)\n",
    "print(myresults.sorter)\n",
    "print(myresults.sorted_myIV_value_array)\n",
    "print(myresults.sorted_np_word_list)"
   ]
  },
  {
   "cell_type": "code",
   "execution_count": 545,
   "id": "af6b8b88",
   "metadata": {},
   "outputs": [
    {
     "data": {
      "text/plain": [
       "array([1437., 1411., 1409., 1403., 1398., 1393., 1392., 1382., 1381.,\n",
       "       1378., 1371., 1366., 1360., 1352., 1351., 1344., 1342., 1342.,\n",
       "       1339., 1336., 1336., 1335., 1332., 1330., 1329., 1326., 1326.,\n",
       "       1325., 1324., 1323., 1322., 1320., 1318., 1315., 1315., 1313.,\n",
       "       1312., 1311., 1310., 1310., 1310., 1309., 1309., 1308., 1299.,\n",
       "       1299., 1299., 1296., 1293., 1293.])"
      ]
     },
     "execution_count": 545,
     "metadata": {},
     "output_type": "execute_result"
    }
   ],
   "source": [
    "myresults.sorted_myIV_value_array[0:50]"
   ]
  },
  {
   "cell_type": "code",
   "execution_count": 546,
   "id": "7e130e44",
   "metadata": {},
   "outputs": [
    {
     "data": {
      "text/plain": [
       "array(['SLATE', 'SAUCE', 'SLICE', 'SHALE', 'SAUTE', 'SHARE', 'SOOTY',\n",
       "       'SHINE', 'SUITE', 'CRANE', 'SAINT', 'SOAPY', 'SHONE', 'SHIRE',\n",
       "       'SAUCY', 'SLAVE', 'SENSE', 'CEASE', 'SANER', 'SNARE', 'STALE',\n",
       "       'CRATE', 'SPREE', 'SHORE', 'SUAVE', 'SLIDE', 'STARE', 'SLIME',\n",
       "       'SORRY', 'BRACE', 'SHINY', 'GOOEY', 'SEIZE', 'CRONE', 'SLEET',\n",
       "       'STATE', 'BRINE', 'SCREE', 'SHADE', 'SPACE', 'SPARE', 'SLANT',\n",
       "       'SHAME', 'SALLY', 'TRACE', 'SCALE', 'SPINE', 'SHAKE', 'TEASE',\n",
       "       'STONE'], dtype='<U5')"
      ]
     },
     "execution_count": 546,
     "metadata": {},
     "output_type": "execute_result"
    }
   ],
   "source": [
    "myresults.sorted_np_word_list[0:50]"
   ]
  },
  {
   "cell_type": "code",
   "execution_count": null,
   "id": "b5a469ba",
   "metadata": {},
   "outputs": [],
   "source": []
  }
 ],
 "metadata": {
  "kernelspec": {
   "display_name": "Python 3 (ipykernel)",
   "language": "python",
   "name": "python3"
  },
  "language_info": {
   "codemirror_mode": {
    "name": "ipython",
    "version": 3
   },
   "file_extension": ".py",
   "mimetype": "text/x-python",
   "name": "python",
   "nbconvert_exporter": "python",
   "pygments_lexer": "ipython3",
   "version": "3.9.7"
  }
 },
 "nbformat": 4,
 "nbformat_minor": 5
}
