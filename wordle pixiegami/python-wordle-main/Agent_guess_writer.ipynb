{
 "cells": [
  {
   "cell_type": "code",
   "execution_count": 8,
   "id": "d7df1eab",
   "metadata": {},
   "outputs": [],
   "source": [
    "from typing import List"
   ]
  },
  {
   "cell_type": "code",
   "execution_count": 1,
   "id": "984c6205",
   "metadata": {},
   "outputs": [],
   "source": [
    "def load_word_set(path: str):\n",
    "    word_set = set()\n",
    "    with open(path, \"r\") as f:\n",
    "        for line in f.readlines():\n",
    "            word = line.strip().upper()\n",
    "            word_set.add(word)\n",
    "    return word_set"
   ]
  },
  {
   "cell_type": "code",
   "execution_count": 2,
   "id": "072a9851",
   "metadata": {},
   "outputs": [],
   "source": [
    "word_set = load_word_set(\"data/wordle_words.txt\")\n"
   ]
  },
  {
   "cell_type": "code",
   "execution_count": 3,
   "id": "3fa5679d",
   "metadata": {},
   "outputs": [
    {
     "data": {
      "text/plain": [
       "9972"
      ]
     },
     "execution_count": 3,
     "metadata": {},
     "output_type": "execute_result"
    }
   ],
   "source": [
    "len(word_set)"
   ]
  },
  {
   "cell_type": "code",
   "execution_count": 8,
   "id": "63250610",
   "metadata": {},
   "outputs": [],
   "source": [
    "agent_guess_list = [\"BREAD\",\"FLUSH\",\"POINT\"]"
   ]
  },
  {
   "cell_type": "code",
   "execution_count": 5,
   "id": "20b85e1a",
   "metadata": {},
   "outputs": [],
   "source": [
    "agent_guess_list = [\"MANGO\"]"
   ]
  },
  {
   "cell_type": "code",
   "execution_count": 6,
   "id": "7e32fb8b",
   "metadata": {},
   "outputs": [
    {
     "ename": "NameError",
     "evalue": "name 'List' is not defined",
     "output_type": "error",
     "traceback": [
      "\u001b[1;31m---------------------------------------------------------------------------\u001b[0m",
      "\u001b[1;31mNameError\u001b[0m                                 Traceback (most recent call last)",
      "Cell \u001b[1;32mIn [6], line 1\u001b[0m\n\u001b[1;32m----> 1\u001b[0m \u001b[38;5;28;01mdef\u001b[39;00m \u001b[38;5;21mwrite_agent_guess_set\u001b[39m(path: \u001b[38;5;28mstr\u001b[39m, my_list: List[\u001b[38;5;28mstr\u001b[39m]):\n\u001b[0;32m      2\u001b[0m     word_set \u001b[38;5;241m=\u001b[39m \u001b[38;5;28mset\u001b[39m()\n\u001b[0;32m      3\u001b[0m     \u001b[38;5;28;01mwith\u001b[39;00m \u001b[38;5;28mopen\u001b[39m(path, \u001b[38;5;124m\"\u001b[39m\u001b[38;5;124mw\u001b[39m\u001b[38;5;124m\"\u001b[39m) \u001b[38;5;28;01mas\u001b[39;00m f:\n",
      "\u001b[1;31mNameError\u001b[0m: name 'List' is not defined"
     ]
    }
   ],
   "source": [
    "def write_agent_guess_set(path: str, my_list: List[str]):\n",
    "    word_set = set()\n",
    "    with open(path, \"w\") as f:\n",
    "        f.writelines(\"%s\\n\" % l for l in my_list)\n",
    "    "
   ]
  },
  {
   "cell_type": "code",
   "execution_count": 7,
   "id": "32f44cdb",
   "metadata": {},
   "outputs": [
    {
     "ename": "NameError",
     "evalue": "name 'write_agent_guess_set' is not defined",
     "output_type": "error",
     "traceback": [
      "\u001b[1;31m---------------------------------------------------------------------------\u001b[0m",
      "\u001b[1;31mNameError\u001b[0m                                 Traceback (most recent call last)",
      "Cell \u001b[1;32mIn [7], line 1\u001b[0m\n\u001b[1;32m----> 1\u001b[0m write_agent_guess_set(\u001b[38;5;124m\"\u001b[39m\u001b[38;5;124mdata/agent_guesses.txt\u001b[39m\u001b[38;5;124m\"\u001b[39m,agent_guess_list)\n",
      "\u001b[1;31mNameError\u001b[0m: name 'write_agent_guess_set' is not defined"
     ]
    }
   ],
   "source": [
    "write_agent_guess_set(\"data/agent_guesses.txt\",agent_guess_list)"
   ]
  },
  {
   "cell_type": "code",
   "execution_count": null,
   "id": "85515d7e",
   "metadata": {},
   "outputs": [],
   "source": [
    "lines = ['line1', 'line2']\n",
    "with open('data/filename.txt', 'w') as f:\n",
    "    f.writelines(\"%s\\n\" % l for l in lines)"
   ]
  },
  {
   "cell_type": "code",
   "execution_count": null,
   "id": "87c958f2",
   "metadata": {},
   "outputs": [],
   "source": []
  }
 ],
 "metadata": {
  "kernelspec": {
   "display_name": "Python 3 (ipykernel)",
   "language": "python",
   "name": "python3"
  },
  "language_info": {
   "codemirror_mode": {
    "name": "ipython",
    "version": 3
   },
   "file_extension": ".py",
   "mimetype": "text/x-python",
   "name": "python",
   "nbconvert_exporter": "python",
   "pygments_lexer": "ipython3",
   "version": "3.9.7"
  }
 },
 "nbformat": 4,
 "nbformat_minor": 5
}
